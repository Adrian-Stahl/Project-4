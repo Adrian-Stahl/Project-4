{
  "cells": [
    {
      "cell_type": "code",
      "source": [
        "!pip install pyspark\n",
        "!pip install findspark"
      ],
      "metadata": {
        "colab": {
          "base_uri": "https://localhost:8080/"
        },
        "id": "FsO7Cl720pOO",
        "outputId": "05b8fd83-de39-441f-82e8-6cdc391cfe65"
      },
      "id": "FsO7Cl720pOO",
      "execution_count": 1,
      "outputs": [
        {
          "output_type": "stream",
          "name": "stdout",
          "text": [
            "Looking in indexes: https://pypi.org/simple, https://us-python.pkg.dev/colab-wheels/public/simple/\n",
            "Requirement already satisfied: pyspark in /usr/local/lib/python3.10/dist-packages (3.4.0)\n",
            "Requirement already satisfied: py4j==0.10.9.7 in /usr/local/lib/python3.10/dist-packages (from pyspark) (0.10.9.7)\n",
            "Looking in indexes: https://pypi.org/simple, https://us-python.pkg.dev/colab-wheels/public/simple/\n",
            "Requirement already satisfied: findspark in /usr/local/lib/python3.10/dist-packages (2.0.1)\n"
          ]
        }
      ]
    },
    {
      "cell_type": "code",
      "source": [
        "import findspark\n",
        "findspark.init()\n",
        "from pyspark.sql import SparkSession"
      ],
      "metadata": {
        "id": "gFVmh_EXUsca"
      },
      "id": "gFVmh_EXUsca",
      "execution_count": 2,
      "outputs": []
    },
    {
      "cell_type": "code",
      "source": [
        "# setup Spark session\n",
        "spark = SparkSession.builder.master(\"local[*]\").getOrCreate()"
      ],
      "metadata": {
        "id": "yt5FORTi0-w3"
      },
      "id": "yt5FORTi0-w3",
      "execution_count": 3,
      "outputs": []
    },
    {
      "cell_type": "code",
      "source": [
        "#mount Google Drive\n",
        "from google.colab import drive\n",
        "drive.mount('/content/drive', force_remount=True)"
      ],
      "metadata": {
        "colab": {
          "base_uri": "https://localhost:8080/"
        },
        "id": "CoV0CjOr1N20",
        "outputId": "1c2df49c-bd11-4b42-a182-999d1fde537a"
      },
      "id": "CoV0CjOr1N20",
      "execution_count": 4,
      "outputs": [
        {
          "output_type": "stream",
          "name": "stdout",
          "text": [
            "Mounted at /content/drive\n"
          ]
        }
      ]
    },
    {
      "cell_type": "code",
      "source": [
        "# read in csv from Google Drive\n",
        "file_path = '/content/drive/MyDrive/Bootcamp/transactions_train.csv'\n",
        "df = spark.read.csv(file_path, header=True, inferSchema=True)"
      ],
      "metadata": {
        "id": "jRXU3kIK1SxN"
      },
      "id": "jRXU3kIK1SxN",
      "execution_count": 5,
      "outputs": []
    },
    {
      "cell_type": "code",
      "source": [
        "# display data frame\n",
        "df.show()"
      ],
      "metadata": {
        "colab": {
          "base_uri": "https://localhost:8080/"
        },
        "id": "izZ2Xrs71ng2",
        "outputId": "3849d94e-a1a4-4f28-cec3-0120eeb3e11c"
      },
      "id": "izZ2Xrs71ng2",
      "execution_count": 6,
      "outputs": [
        {
          "output_type": "stream",
          "name": "stdout",
          "text": [
            "+----+--------+---------+-----------+--------------+--------------+-----------+--------------+--------------+-------+\n",
            "|step|    type|   amount|   nameOrig|oldbalanceOrig|newbalanceOrig|   nameDest|oldbalanceDest|newbalanceDest|isFraud|\n",
            "+----+--------+---------+-----------+--------------+--------------+-----------+--------------+--------------+-------+\n",
            "|   1| PAYMENT|  9839.64|C1231006815|      170136.0|     160296.36|M1979787155|           0.0|           0.0|      0|\n",
            "|   1| PAYMENT|  1864.28|C1666544295|       21249.0|      19384.72|M2044282225|           0.0|           0.0|      0|\n",
            "|   1|TRANSFER|    181.0|C1305486145|         181.0|           0.0| C553264065|           0.0|           0.0|      1|\n",
            "|   1|CASH_OUT|    181.0| C840083671|         181.0|           0.0|  C38997010|       21182.0|           0.0|      1|\n",
            "|   1| PAYMENT| 11668.14|C2048537720|       41554.0|      29885.86|M1230701703|           0.0|           0.0|      0|\n",
            "|   1| PAYMENT|  7817.71|  C90045638|       53860.0|      46042.29| M573487274|           0.0|           0.0|      0|\n",
            "|   1| PAYMENT|  7107.77| C154988899|      183195.0|     176087.23| M408069119|           0.0|           0.0|      0|\n",
            "|   1| PAYMENT|  7861.64|C1912850431|     176087.23|     168225.59| M633326333|           0.0|           0.0|      0|\n",
            "|   1| PAYMENT|  4024.36|C1265012928|        2671.0|           0.0|M1176932104|           0.0|           0.0|      0|\n",
            "|   1|   DEBIT|  5337.77| C712410124|       41720.0|      36382.23| C195600860|       41898.0|      40348.79|      0|\n",
            "|   1|   DEBIT|  9644.94|C1900366749|        4465.0|           0.0| C997608398|       10845.0|     157982.12|      0|\n",
            "|   1| PAYMENT|  3099.97| C249177573|       20771.0|      17671.03|M2096539129|           0.0|           0.0|      0|\n",
            "|   1| PAYMENT|  2560.74|C1648232591|        5070.0|       2509.26| M972865270|           0.0|           0.0|      0|\n",
            "|   1| PAYMENT| 11633.76|C1716932897|       10127.0|           0.0| M801569151|           0.0|           0.0|      0|\n",
            "|   1| PAYMENT|  4098.78|C1026483832|      503264.0|     499165.22|M1635378213|           0.0|           0.0|      0|\n",
            "|   1|CASH_OUT|229133.94| C905080434|       15325.0|           0.0| C476402209|        5083.0|      51513.44|      0|\n",
            "|   1| PAYMENT|  1563.82| C761750706|         450.0|           0.0|M1731217984|           0.0|           0.0|      0|\n",
            "|   1| PAYMENT|  1157.86|C1237762639|       21156.0|      19998.14|M1877062907|           0.0|           0.0|      0|\n",
            "|   1| PAYMENT|   671.64|C2033524545|       15123.0|      14451.36| M473053293|           0.0|           0.0|      0|\n",
            "|   1|TRANSFER| 215310.3|C1670993182|         705.0|           0.0|C1100439041|       22425.0|           0.0|      0|\n",
            "+----+--------+---------+-----------+--------------+--------------+-----------+--------------+--------------+-------+\n",
            "only showing top 20 rows\n",
            "\n"
          ]
        }
      ]
    },
    {
      "cell_type": "code",
      "source": [
        "# drop columns with string values\n",
        "columns_to_drop = [\"step\",\"type\",\"nameOrig\", \"nameDest\"]\n",
        "df = df.drop(*columns_to_drop)"
      ],
      "metadata": {
        "id": "wbiPtprA1_JQ"
      },
      "id": "wbiPtprA1_JQ",
      "execution_count": 7,
      "outputs": []
    },
    {
      "cell_type": "code",
      "source": [
        "df.show()"
      ],
      "metadata": {
        "colab": {
          "base_uri": "https://localhost:8080/"
        },
        "id": "uewjF6-q2kCG",
        "outputId": "0ef0622b-e2bf-4072-c4cb-7d8805d47a0e"
      },
      "id": "uewjF6-q2kCG",
      "execution_count": 8,
      "outputs": [
        {
          "output_type": "stream",
          "name": "stdout",
          "text": [
            "+---------+--------------+--------------+--------------+--------------+-------+\n",
            "|   amount|oldbalanceOrig|newbalanceOrig|oldbalanceDest|newbalanceDest|isFraud|\n",
            "+---------+--------------+--------------+--------------+--------------+-------+\n",
            "|  9839.64|      170136.0|     160296.36|           0.0|           0.0|      0|\n",
            "|  1864.28|       21249.0|      19384.72|           0.0|           0.0|      0|\n",
            "|    181.0|         181.0|           0.0|           0.0|           0.0|      1|\n",
            "|    181.0|         181.0|           0.0|       21182.0|           0.0|      1|\n",
            "| 11668.14|       41554.0|      29885.86|           0.0|           0.0|      0|\n",
            "|  7817.71|       53860.0|      46042.29|           0.0|           0.0|      0|\n",
            "|  7107.77|      183195.0|     176087.23|           0.0|           0.0|      0|\n",
            "|  7861.64|     176087.23|     168225.59|           0.0|           0.0|      0|\n",
            "|  4024.36|        2671.0|           0.0|           0.0|           0.0|      0|\n",
            "|  5337.77|       41720.0|      36382.23|       41898.0|      40348.79|      0|\n",
            "|  9644.94|        4465.0|           0.0|       10845.0|     157982.12|      0|\n",
            "|  3099.97|       20771.0|      17671.03|           0.0|           0.0|      0|\n",
            "|  2560.74|        5070.0|       2509.26|           0.0|           0.0|      0|\n",
            "| 11633.76|       10127.0|           0.0|           0.0|           0.0|      0|\n",
            "|  4098.78|      503264.0|     499165.22|           0.0|           0.0|      0|\n",
            "|229133.94|       15325.0|           0.0|        5083.0|      51513.44|      0|\n",
            "|  1563.82|         450.0|           0.0|           0.0|           0.0|      0|\n",
            "|  1157.86|       21156.0|      19998.14|           0.0|           0.0|      0|\n",
            "|   671.64|       15123.0|      14451.36|           0.0|           0.0|      0|\n",
            "| 215310.3|         705.0|           0.0|       22425.0|           0.0|      0|\n",
            "+---------+--------------+--------------+--------------+--------------+-------+\n",
            "only showing top 20 rows\n",
            "\n"
          ]
        }
      ]
    },
    {
      "cell_type": "code",
      "source": [
        "y = df.select(\"isFraud\").toPandas()\n",
        "X = df.drop(\"isFraud\").toPandas()"
      ],
      "metadata": {
        "id": "fp_2QeM63Vu7"
      },
      "id": "fp_2QeM63Vu7",
      "execution_count": 9,
      "outputs": []
    },
    {
      "cell_type": "code",
      "source": [
        "# Import the train_test_learn module\n",
        "from sklearn.model_selection import train_test_split\n",
        "\n",
        "# Split the data using train_test_split\n",
        "# Assign a random_state of 1 to the function\n",
        "X_train, X_test, y_train, y_test = train_test_split(\n",
        "    X, \n",
        "    y, \n",
        "    random_state = 1\n",
        ")"
      ],
      "metadata": {
        "id": "RGMJ7kLL3263"
      },
      "id": "RGMJ7kLL3263",
      "execution_count": 10,
      "outputs": []
    },
    {
      "cell_type": "code",
      "source": [
        "# importing StandardScaler\n",
        "from sklearn.preprocessing import StandardScaler\n",
        "\n",
        "# Create a StandardScaler instances\n",
        "scaler = StandardScaler()\n",
        "\n",
        "# Fit the StandardScaler\n",
        "X_scaler = scaler.fit(X_train)\n",
        "\n",
        "# Scale the data\n",
        "X_train_scaled = X_scaler.transform(X_train)\n",
        "X_test_scaled = X_scaler.transform(X_test)"
      ],
      "metadata": {
        "id": "ERPceR6cV_gn"
      },
      "id": "ERPceR6cV_gn",
      "execution_count": 12,
      "outputs": []
    },
    {
      "cell_type": "code",
      "source": [
        "# importing tensor flow\n",
        "import tensorflow as tf\n",
        "\n",
        "# Define the model - deep neural net, i.e., the number of input features and hidden nodes for each layer.\n",
        "nn = tf.keras.models.Sequential()\n",
        "\n",
        "# First hidden layer\n",
        "nn.add(tf.keras.layers.Dense(units=80, activation=\"relu\", input_dim=X_train_scaled.shape[1]))\n",
        "\n",
        "# Second hidden layer\n",
        "nn.add(tf.keras.layers.Dense(units=30, activation=\"relu\"))\n",
        "\n",
        "# Output layer\n",
        "nn.add(tf.keras.layers.Dense(units=1, activation=\"sigmoid\"))\n",
        "\n",
        "# Check the structure of the model\n",
        "nn.summary()"
      ],
      "metadata": {
        "colab": {
          "base_uri": "https://localhost:8080/"
        },
        "id": "D-_ySW_IWSnF",
        "outputId": "eb6bd4b9-abf4-458c-ed73-2400e19b583b"
      },
      "id": "D-_ySW_IWSnF",
      "execution_count": 13,
      "outputs": [
        {
          "output_type": "stream",
          "name": "stdout",
          "text": [
            "Model: \"sequential\"\n",
            "_________________________________________________________________\n",
            " Layer (type)                Output Shape              Param #   \n",
            "=================================================================\n",
            " dense (Dense)               (None, 80)                480       \n",
            "                                                                 \n",
            " dense_1 (Dense)             (None, 30)                2430      \n",
            "                                                                 \n",
            " dense_2 (Dense)             (None, 1)                 31        \n",
            "                                                                 \n",
            "=================================================================\n",
            "Total params: 2,941\n",
            "Trainable params: 2,941\n",
            "Non-trainable params: 0\n",
            "_________________________________________________________________\n"
          ]
        }
      ]
    },
    {
      "cell_type": "code",
      "source": [
        "# Compile the model\n",
        "nn.compile(loss=\"binary_crossentropy\", optimizer=\"adam\", metrics=[\"accuracy\"])"
      ],
      "metadata": {
        "id": "Eh5Jn3WcWgX7"
      },
      "id": "Eh5Jn3WcWgX7",
      "execution_count": 14,
      "outputs": []
    },
    {
      "cell_type": "code",
      "source": [
        "# Train the model\n",
        "fit_model = nn.fit(X_train_scaled, y_train, epochs=10)"
      ],
      "metadata": {
        "colab": {
          "base_uri": "https://localhost:8080/"
        },
        "id": "OXQVSglOWlqf",
        "outputId": "19e5c0c6-c6e0-43f2-d61e-7d54a8e6e219"
      },
      "id": "OXQVSglOWlqf",
      "execution_count": 15,
      "outputs": [
        {
          "output_type": "stream",
          "name": "stdout",
          "text": [
            "Epoch 1/10\n",
            "148857/148857 [==============================] - 348s 2ms/step - loss: 0.0045 - accuracy: 0.9993\n",
            "Epoch 2/10\n",
            "148857/148857 [==============================] - 357s 2ms/step - loss: 0.0036 - accuracy: 0.9994\n",
            "Epoch 3/10\n",
            "148857/148857 [==============================] - 346s 2ms/step - loss: 0.0034 - accuracy: 0.9994\n",
            "Epoch 4/10\n",
            "148857/148857 [==============================] - 330s 2ms/step - loss: 0.0035 - accuracy: 0.9994\n",
            "Epoch 5/10\n",
            "148857/148857 [==============================] - 337s 2ms/step - loss: 0.0035 - accuracy: 0.9994\n",
            "Epoch 6/10\n",
            "148857/148857 [==============================] - 325s 2ms/step - loss: 0.0035 - accuracy: 0.9994\n",
            "Epoch 7/10\n",
            "148857/148857 [==============================] - 321s 2ms/step - loss: 0.0032 - accuracy: 0.9994\n",
            "Epoch 8/10\n",
            "148857/148857 [==============================] - 327s 2ms/step - loss: 0.0031 - accuracy: 0.9994\n",
            "Epoch 9/10\n",
            "148857/148857 [==============================] - 324s 2ms/step - loss: 0.0031 - accuracy: 0.9994\n",
            "Epoch 10/10\n",
            "148857/148857 [==============================] - 323s 2ms/step - loss: 0.0030 - accuracy: 0.9994\n"
          ]
        }
      ]
    },
    {
      "cell_type": "code",
      "source": [
        "# Evaluate the model using the test data\n",
        "model_loss, model_accuracy = nn.evaluate(X_test_scaled,y_test,verbose=2)\n",
        "print(f\"Loss: {model_loss}, Accuracy: {model_accuracy}\")"
      ],
      "metadata": {
        "colab": {
          "base_uri": "https://localhost:8080/"
        },
        "id": "v7iIdXppk9On",
        "outputId": "1e91d1e4-fe69-4164-b543-1bdc687425fe"
      },
      "id": "v7iIdXppk9On",
      "execution_count": 16,
      "outputs": [
        {
          "output_type": "stream",
          "name": "stdout",
          "text": [
            "49619/49619 - 70s - loss: 0.0027 - accuracy: 0.9995 - 70s/epoch - 1ms/step\n",
            "Loss: 0.0027400129474699497, Accuracy: 0.9994659423828125\n"
          ]
        }
      ]
    }
  ],
  "metadata": {
    "colab": {
      "provenance": []
    },
    "language_info": {
      "name": "python"
    },
    "kernelspec": {
      "name": "python3",
      "display_name": "Python 3"
    }
  },
  "nbformat": 4,
  "nbformat_minor": 5
}
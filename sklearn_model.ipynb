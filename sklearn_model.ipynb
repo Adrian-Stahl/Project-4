{
  "cells": [
    {
      "cell_type": "markdown",
      "metadata": {
        "id": "view-in-github"
      },
      "source": [
        "<a href=\"https://colab.research.google.com/github/Adrian-Stahl/Project-4/blob/main/Credit_Card_Fraud_Detection_Machine_Learning.ipynb\" target=\"_parent\"><img src=\"https://colab.research.google.com/assets/colab-badge.svg\" alt=\"Open In Colab\"/></a>"
      ],
      "id": "view-in-github"
    },
    {
      "cell_type": "code",
      "source": [
        "#import dependencies\n",
        "\n",
        "!pip install pyspark\n",
        "!pip install findspark\n",
        "import pandas as pd\n",
        "from sklearn.model_selection import train_test_split\n",
        "from sklearn.linear_model import LogisticRegression\n",
        "from sklearn.metrics import balanced_accuracy_score, confusion_matrix, classification_report\n",
        "from imblearn.over_sampling import RandomOverSampler"
      ],
      "metadata": {
        "id": "SOcrZhjJfj7_",
        "colab": {
          "base_uri": "https://localhost:8080/"
        },
        "outputId": "8a438d04-384b-48c3-9e3c-48013fb5e5d8"
      },
      "id": "SOcrZhjJfj7_",
      "execution_count": 1,
      "outputs": [
        {
          "output_type": "stream",
          "name": "stdout",
          "text": [
            "Looking in indexes: https://pypi.org/simple, https://us-python.pkg.dev/colab-wheels/public/simple/\n",
            "Collecting pyspark\n",
            "  Downloading pyspark-3.4.0.tar.gz (310.8 MB)\n",
            "\u001b[2K     \u001b[90m━━━━━━━━━━━━━━━━━━━━━━━━━━━━━━━━━━━━━━━\u001b[0m \u001b[32m310.8/310.8 MB\u001b[0m \u001b[31m2.5 MB/s\u001b[0m eta \u001b[36m0:00:00\u001b[0m\n",
            "\u001b[?25h  Preparing metadata (setup.py) ... \u001b[?25l\u001b[?25hdone\n",
            "Requirement already satisfied: py4j==0.10.9.7 in /usr/local/lib/python3.10/dist-packages (from pyspark) (0.10.9.7)\n",
            "Building wheels for collected packages: pyspark\n",
            "  Building wheel for pyspark (setup.py) ... \u001b[?25l\u001b[?25hdone\n",
            "  Created wheel for pyspark: filename=pyspark-3.4.0-py2.py3-none-any.whl size=311317130 sha256=1161ec481e84d1f4d93e6ec6731104e12c2c1cce8f8667cc2ecbc140719faced\n",
            "  Stored in directory: /root/.cache/pip/wheels/7b/1b/4b/3363a1d04368e7ff0d408e57ff57966fcdf00583774e761327\n",
            "Successfully built pyspark\n",
            "Installing collected packages: pyspark\n",
            "Successfully installed pyspark-3.4.0\n",
            "Looking in indexes: https://pypi.org/simple, https://us-python.pkg.dev/colab-wheels/public/simple/\n",
            "Collecting findspark\n",
            "  Downloading findspark-2.0.1-py2.py3-none-any.whl (4.4 kB)\n",
            "Installing collected packages: findspark\n",
            "Successfully installed findspark-2.0.1\n"
          ]
        }
      ]
    },
    {
      "cell_type": "code",
      "source": [
        "# setup Spark session\n",
        "import findspark\n",
        "findspark.init()\n",
        "from pyspark.sql import SparkSession\n",
        "spark = SparkSession.builder.master(\"local[*]\").getOrCreate()"
      ],
      "metadata": {
        "id": "ncJpSEYYoBt1"
      },
      "id": "ncJpSEYYoBt1",
      "execution_count": 2,
      "outputs": []
    },
    {
      "cell_type": "code",
      "source": [
        "#mount Google Drive\n",
        "from google.colab import drive\n",
        "drive.mount('/content/drive')"
      ],
      "metadata": {
        "colab": {
          "base_uri": "https://localhost:8080/"
        },
        "id": "AD4dvT7lmkot",
        "outputId": "2a39f6ce-6d00-4bc8-f98f-30d66fc4b9ac"
      },
      "id": "AD4dvT7lmkot",
      "execution_count": 3,
      "outputs": [
        {
          "output_type": "stream",
          "name": "stdout",
          "text": [
            "Mounted at /content/drive\n"
          ]
        }
      ]
    },
    {
      "cell_type": "code",
      "source": [
        "# read in csv from Google Drive\n",
        "file_path = '/content/drive/MyDrive/Bootcamp/transactions_train.csv'\n",
        "df = spark.read.csv(file_path, header=True, inferSchema=True)"
      ],
      "metadata": {
        "id": "fYhvXX8uk8Wb"
      },
      "id": "fYhvXX8uk8Wb",
      "execution_count": 4,
      "outputs": []
    },
    {
      "cell_type": "code",
      "source": [
        "# display data frame\n",
        "df.show()"
      ],
      "metadata": {
        "id": "G8KXiG6hudUK",
        "outputId": "48ff6dcd-c5b5-40a9-a9bf-321de6bea4dd",
        "colab": {
          "base_uri": "https://localhost:8080/"
        }
      },
      "id": "G8KXiG6hudUK",
      "execution_count": 5,
      "outputs": [
        {
          "output_type": "stream",
          "name": "stdout",
          "text": [
            "+----+--------+---------+-----------+--------------+--------------+-----------+--------------+--------------+-------+\n",
            "|step|    type|   amount|   nameOrig|oldbalanceOrig|newbalanceOrig|   nameDest|oldbalanceDest|newbalanceDest|isFraud|\n",
            "+----+--------+---------+-----------+--------------+--------------+-----------+--------------+--------------+-------+\n",
            "|   1| PAYMENT|  9839.64|C1231006815|      170136.0|     160296.36|M1979787155|           0.0|           0.0|      0|\n",
            "|   1| PAYMENT|  1864.28|C1666544295|       21249.0|      19384.72|M2044282225|           0.0|           0.0|      0|\n",
            "|   1|TRANSFER|    181.0|C1305486145|         181.0|           0.0| C553264065|           0.0|           0.0|      1|\n",
            "|   1|CASH_OUT|    181.0| C840083671|         181.0|           0.0|  C38997010|       21182.0|           0.0|      1|\n",
            "|   1| PAYMENT| 11668.14|C2048537720|       41554.0|      29885.86|M1230701703|           0.0|           0.0|      0|\n",
            "|   1| PAYMENT|  7817.71|  C90045638|       53860.0|      46042.29| M573487274|           0.0|           0.0|      0|\n",
            "|   1| PAYMENT|  7107.77| C154988899|      183195.0|     176087.23| M408069119|           0.0|           0.0|      0|\n",
            "|   1| PAYMENT|  7861.64|C1912850431|     176087.23|     168225.59| M633326333|           0.0|           0.0|      0|\n",
            "|   1| PAYMENT|  4024.36|C1265012928|        2671.0|           0.0|M1176932104|           0.0|           0.0|      0|\n",
            "|   1|   DEBIT|  5337.77| C712410124|       41720.0|      36382.23| C195600860|       41898.0|      40348.79|      0|\n",
            "|   1|   DEBIT|  9644.94|C1900366749|        4465.0|           0.0| C997608398|       10845.0|     157982.12|      0|\n",
            "|   1| PAYMENT|  3099.97| C249177573|       20771.0|      17671.03|M2096539129|           0.0|           0.0|      0|\n",
            "|   1| PAYMENT|  2560.74|C1648232591|        5070.0|       2509.26| M972865270|           0.0|           0.0|      0|\n",
            "|   1| PAYMENT| 11633.76|C1716932897|       10127.0|           0.0| M801569151|           0.0|           0.0|      0|\n",
            "|   1| PAYMENT|  4098.78|C1026483832|      503264.0|     499165.22|M1635378213|           0.0|           0.0|      0|\n",
            "|   1|CASH_OUT|229133.94| C905080434|       15325.0|           0.0| C476402209|        5083.0|      51513.44|      0|\n",
            "|   1| PAYMENT|  1563.82| C761750706|         450.0|           0.0|M1731217984|           0.0|           0.0|      0|\n",
            "|   1| PAYMENT|  1157.86|C1237762639|       21156.0|      19998.14|M1877062907|           0.0|           0.0|      0|\n",
            "|   1| PAYMENT|   671.64|C2033524545|       15123.0|      14451.36| M473053293|           0.0|           0.0|      0|\n",
            "|   1|TRANSFER| 215310.3|C1670993182|         705.0|           0.0|C1100439041|       22425.0|           0.0|      0|\n",
            "+----+--------+---------+-----------+--------------+--------------+-----------+--------------+--------------+-------+\n",
            "only showing top 20 rows\n",
            "\n"
          ]
        }
      ]
    },
    {
      "cell_type": "code",
      "source": [
        "# drop columns with string values\n",
        "columns_to_drop = [\"step\",\"type\",\"nameOrig\", \"nameDest\"]\n",
        "df = df.drop(*columns_to_drop)"
      ],
      "metadata": {
        "id": "_-SDkq_XuMsO"
      },
      "id": "_-SDkq_XuMsO",
      "execution_count": 6,
      "outputs": []
    },
    {
      "cell_type": "code",
      "source": [
        "#displaying the dataset with the dropped column\n",
        "df.show()"
      ],
      "metadata": {
        "colab": {
          "base_uri": "https://localhost:8080/"
        },
        "id": "uTK2SiBtv8gI",
        "outputId": "8c091724-1303-40c7-b382-60256eaa4efa"
      },
      "id": "uTK2SiBtv8gI",
      "execution_count": 7,
      "outputs": [
        {
          "output_type": "stream",
          "name": "stdout",
          "text": [
            "+---------+--------------+--------------+--------------+--------------+-------+\n",
            "|   amount|oldbalanceOrig|newbalanceOrig|oldbalanceDest|newbalanceDest|isFraud|\n",
            "+---------+--------------+--------------+--------------+--------------+-------+\n",
            "|  9839.64|      170136.0|     160296.36|           0.0|           0.0|      0|\n",
            "|  1864.28|       21249.0|      19384.72|           0.0|           0.0|      0|\n",
            "|    181.0|         181.0|           0.0|           0.0|           0.0|      1|\n",
            "|    181.0|         181.0|           0.0|       21182.0|           0.0|      1|\n",
            "| 11668.14|       41554.0|      29885.86|           0.0|           0.0|      0|\n",
            "|  7817.71|       53860.0|      46042.29|           0.0|           0.0|      0|\n",
            "|  7107.77|      183195.0|     176087.23|           0.0|           0.0|      0|\n",
            "|  7861.64|     176087.23|     168225.59|           0.0|           0.0|      0|\n",
            "|  4024.36|        2671.0|           0.0|           0.0|           0.0|      0|\n",
            "|  5337.77|       41720.0|      36382.23|       41898.0|      40348.79|      0|\n",
            "|  9644.94|        4465.0|           0.0|       10845.0|     157982.12|      0|\n",
            "|  3099.97|       20771.0|      17671.03|           0.0|           0.0|      0|\n",
            "|  2560.74|        5070.0|       2509.26|           0.0|           0.0|      0|\n",
            "| 11633.76|       10127.0|           0.0|           0.0|           0.0|      0|\n",
            "|  4098.78|      503264.0|     499165.22|           0.0|           0.0|      0|\n",
            "|229133.94|       15325.0|           0.0|        5083.0|      51513.44|      0|\n",
            "|  1563.82|         450.0|           0.0|           0.0|           0.0|      0|\n",
            "|  1157.86|       21156.0|      19998.14|           0.0|           0.0|      0|\n",
            "|   671.64|       15123.0|      14451.36|           0.0|           0.0|      0|\n",
            "| 215310.3|         705.0|           0.0|       22425.0|           0.0|      0|\n",
            "+---------+--------------+--------------+--------------+--------------+-------+\n",
            "only showing top 20 rows\n",
            "\n"
          ]
        }
      ]
    },
    {
      "cell_type": "code",
      "source": [
        "#Separating data into labels (y) and features (x)\n",
        "y = df.select(\"isFraud\").toPandas()\n",
        "X = df.drop(\"isFraud\").toPandas()"
      ],
      "metadata": {
        "id": "LlONf6xgwNzQ"
      },
      "id": "LlONf6xgwNzQ",
      "execution_count": 8,
      "outputs": []
    },
    {
      "cell_type": "markdown",
      "source": [
        "### Step 4: Split the data into training and testing datasets by using `train_test_split`."
      ],
      "metadata": {
        "id": "gpzx6OrV4QT1"
      },
      "id": "gpzx6OrV4QT1"
    },
    {
      "cell_type": "code",
      "source": [
        "# Split the data using train_test_split\n",
        "# Assign a random_state of 1 to the function\n",
        "X_train, X_test, y_train, y_test = train_test_split(\n",
        "    X, \n",
        "    y, \n",
        "    random_state = 1\n",
        ")"
      ],
      "metadata": {
        "id": "7-HE1AJs4Lp-"
      },
      "id": "7-HE1AJs4Lp-",
      "execution_count": 9,
      "outputs": []
    },
    {
      "cell_type": "code",
      "source": [
        "# Instantiate the Logistic Regression model\n",
        "# Assign a random_state parameter of 1 to the model\n",
        "LR_model = LogisticRegression(random_state = 1)"
      ],
      "metadata": {
        "id": "s5oJ6vy55ec-"
      },
      "id": "s5oJ6vy55ec-",
      "execution_count": 10,
      "outputs": []
    },
    {
      "cell_type": "code",
      "source": [
        "# Fit the model using training data\n",
        "LR_model.fit(X_train, y_train)"
      ],
      "metadata": {
        "colab": {
          "base_uri": "https://localhost:8080/",
          "height": 130
        },
        "id": "oliL9JKP5jut",
        "outputId": "32963ddd-a542-4fff-93dc-215797300c12"
      },
      "id": "oliL9JKP5jut",
      "execution_count": 11,
      "outputs": [
        {
          "output_type": "stream",
          "name": "stderr",
          "text": [
            "/usr/local/lib/python3.10/dist-packages/sklearn/utils/validation.py:1143: DataConversionWarning: A column-vector y was passed when a 1d array was expected. Please change the shape of y to (n_samples, ), for example using ravel().\n",
            "  y = column_or_1d(y, warn=True)\n"
          ]
        },
        {
          "output_type": "execute_result",
          "data": {
            "text/plain": [
              "LogisticRegression(random_state=1)"
            ],
            "text/html": [
              "<style>#sk-container-id-1 {color: black;background-color: white;}#sk-container-id-1 pre{padding: 0;}#sk-container-id-1 div.sk-toggleable {background-color: white;}#sk-container-id-1 label.sk-toggleable__label {cursor: pointer;display: block;width: 100%;margin-bottom: 0;padding: 0.3em;box-sizing: border-box;text-align: center;}#sk-container-id-1 label.sk-toggleable__label-arrow:before {content: \"▸\";float: left;margin-right: 0.25em;color: #696969;}#sk-container-id-1 label.sk-toggleable__label-arrow:hover:before {color: black;}#sk-container-id-1 div.sk-estimator:hover label.sk-toggleable__label-arrow:before {color: black;}#sk-container-id-1 div.sk-toggleable__content {max-height: 0;max-width: 0;overflow: hidden;text-align: left;background-color: #f0f8ff;}#sk-container-id-1 div.sk-toggleable__content pre {margin: 0.2em;color: black;border-radius: 0.25em;background-color: #f0f8ff;}#sk-container-id-1 input.sk-toggleable__control:checked~div.sk-toggleable__content {max-height: 200px;max-width: 100%;overflow: auto;}#sk-container-id-1 input.sk-toggleable__control:checked~label.sk-toggleable__label-arrow:before {content: \"▾\";}#sk-container-id-1 div.sk-estimator input.sk-toggleable__control:checked~label.sk-toggleable__label {background-color: #d4ebff;}#sk-container-id-1 div.sk-label input.sk-toggleable__control:checked~label.sk-toggleable__label {background-color: #d4ebff;}#sk-container-id-1 input.sk-hidden--visually {border: 0;clip: rect(1px 1px 1px 1px);clip: rect(1px, 1px, 1px, 1px);height: 1px;margin: -1px;overflow: hidden;padding: 0;position: absolute;width: 1px;}#sk-container-id-1 div.sk-estimator {font-family: monospace;background-color: #f0f8ff;border: 1px dotted black;border-radius: 0.25em;box-sizing: border-box;margin-bottom: 0.5em;}#sk-container-id-1 div.sk-estimator:hover {background-color: #d4ebff;}#sk-container-id-1 div.sk-parallel-item::after {content: \"\";width: 100%;border-bottom: 1px solid gray;flex-grow: 1;}#sk-container-id-1 div.sk-label:hover label.sk-toggleable__label {background-color: #d4ebff;}#sk-container-id-1 div.sk-serial::before {content: \"\";position: absolute;border-left: 1px solid gray;box-sizing: border-box;top: 0;bottom: 0;left: 50%;z-index: 0;}#sk-container-id-1 div.sk-serial {display: flex;flex-direction: column;align-items: center;background-color: white;padding-right: 0.2em;padding-left: 0.2em;position: relative;}#sk-container-id-1 div.sk-item {position: relative;z-index: 1;}#sk-container-id-1 div.sk-parallel {display: flex;align-items: stretch;justify-content: center;background-color: white;position: relative;}#sk-container-id-1 div.sk-item::before, #sk-container-id-1 div.sk-parallel-item::before {content: \"\";position: absolute;border-left: 1px solid gray;box-sizing: border-box;top: 0;bottom: 0;left: 50%;z-index: -1;}#sk-container-id-1 div.sk-parallel-item {display: flex;flex-direction: column;z-index: 1;position: relative;background-color: white;}#sk-container-id-1 div.sk-parallel-item:first-child::after {align-self: flex-end;width: 50%;}#sk-container-id-1 div.sk-parallel-item:last-child::after {align-self: flex-start;width: 50%;}#sk-container-id-1 div.sk-parallel-item:only-child::after {width: 0;}#sk-container-id-1 div.sk-dashed-wrapped {border: 1px dashed gray;margin: 0 0.4em 0.5em 0.4em;box-sizing: border-box;padding-bottom: 0.4em;background-color: white;}#sk-container-id-1 div.sk-label label {font-family: monospace;font-weight: bold;display: inline-block;line-height: 1.2em;}#sk-container-id-1 div.sk-label-container {text-align: center;}#sk-container-id-1 div.sk-container {/* jupyter's `normalize.less` sets `[hidden] { display: none; }` but bootstrap.min.css set `[hidden] { display: none !important; }` so we also need the `!important` here to be able to override the default hidden behavior on the sphinx rendered scikit-learn.org. See: https://github.com/scikit-learn/scikit-learn/issues/21755 */display: inline-block !important;position: relative;}#sk-container-id-1 div.sk-text-repr-fallback {display: none;}</style><div id=\"sk-container-id-1\" class=\"sk-top-container\"><div class=\"sk-text-repr-fallback\"><pre>LogisticRegression(random_state=1)</pre><b>In a Jupyter environment, please rerun this cell to show the HTML representation or trust the notebook. <br />On GitHub, the HTML representation is unable to render, please try loading this page with nbviewer.org.</b></div><div class=\"sk-container\" hidden><div class=\"sk-item\"><div class=\"sk-estimator sk-toggleable\"><input class=\"sk-toggleable__control sk-hidden--visually\" id=\"sk-estimator-id-1\" type=\"checkbox\" checked><label for=\"sk-estimator-id-1\" class=\"sk-toggleable__label sk-toggleable__label-arrow\">LogisticRegression</label><div class=\"sk-toggleable__content\"><pre>LogisticRegression(random_state=1)</pre></div></div></div></div></div>"
            ]
          },
          "metadata": {},
          "execution_count": 11
        }
      ]
    },
    {
      "cell_type": "code",
      "source": [
        "# Make a prediction using the testing data\n",
        "LR_predictions = LR_model.predict(X_test)"
      ],
      "metadata": {
        "id": "uf7CroCrE5M-"
      },
      "id": "uf7CroCrE5M-",
      "execution_count": 12,
      "outputs": []
    },
    {
      "cell_type": "code",
      "source": [
        "# Print the balanced_accuracy score of the model\n",
        "balanced_accuracy_score(y_test, LR_predictions)"
      ],
      "metadata": {
        "colab": {
          "base_uri": "https://localhost:8080/"
        },
        "id": "eZCo9mHJFJMY",
        "outputId": "44d68bf5-0890-44b9-e104-89aa5f47a195"
      },
      "id": "eZCo9mHJFJMY",
      "execution_count": 13,
      "outputs": [
        {
          "output_type": "execute_result",
          "data": {
            "text/plain": [
              "0.8904248433622179"
            ]
          },
          "metadata": {},
          "execution_count": 13
        }
      ]
    },
    {
      "cell_type": "code",
      "source": [
        "# Generate a confusion matrix for the model\n",
        "delta = confusion_matrix(y_test, LR_predictions)\n",
        "delta_df = pd.DataFrame(delta, \n",
        "                                index = ['Actual Healthy Loans (low-risk)', \n",
        "                                'Actual Non-Healthy Loans (high-risk)'], \n",
        "                                columns = ['Predicted Healthy Loans (low-risk)', 'Predicted Non-Healthy Loans (high-risk)']\n",
        "                              )\n",
        "delta_df"
      ],
      "metadata": {
        "colab": {
          "base_uri": "https://localhost:8080/",
          "height": 112
        },
        "id": "FRfjaQQlF9Mj",
        "outputId": "fb7ae9f4-206d-430b-ecd9-0c223bdd8426"
      },
      "id": "FRfjaQQlF9Mj",
      "execution_count": 14,
      "outputs": [
        {
          "output_type": "execute_result",
          "data": {
            "text/plain": [
              "                                      Predicted Healthy Loans (low-risk)  \\\n",
              "Actual Healthy Loans (low-risk)                                  1583154   \n",
              "Actual Non-Healthy Loans (high-risk)                                 419   \n",
              "\n",
              "                                      Predicted Non-Healthy Loans (high-risk)  \n",
              "Actual Healthy Loans (low-risk)                                          2718  \n",
              "Actual Non-Healthy Loans (high-risk)                                     1508  "
            ],
            "text/html": [
              "\n",
              "  <div id=\"df-716bc234-c8b2-4ef3-ade4-6fa3bc4565f3\">\n",
              "    <div class=\"colab-df-container\">\n",
              "      <div>\n",
              "<style scoped>\n",
              "    .dataframe tbody tr th:only-of-type {\n",
              "        vertical-align: middle;\n",
              "    }\n",
              "\n",
              "    .dataframe tbody tr th {\n",
              "        vertical-align: top;\n",
              "    }\n",
              "\n",
              "    .dataframe thead th {\n",
              "        text-align: right;\n",
              "    }\n",
              "</style>\n",
              "<table border=\"1\" class=\"dataframe\">\n",
              "  <thead>\n",
              "    <tr style=\"text-align: right;\">\n",
              "      <th></th>\n",
              "      <th>Predicted Healthy Loans (low-risk)</th>\n",
              "      <th>Predicted Non-Healthy Loans (high-risk)</th>\n",
              "    </tr>\n",
              "  </thead>\n",
              "  <tbody>\n",
              "    <tr>\n",
              "      <th>Actual Healthy Loans (low-risk)</th>\n",
              "      <td>1583154</td>\n",
              "      <td>2718</td>\n",
              "    </tr>\n",
              "    <tr>\n",
              "      <th>Actual Non-Healthy Loans (high-risk)</th>\n",
              "      <td>419</td>\n",
              "      <td>1508</td>\n",
              "    </tr>\n",
              "  </tbody>\n",
              "</table>\n",
              "</div>\n",
              "      <button class=\"colab-df-convert\" onclick=\"convertToInteractive('df-716bc234-c8b2-4ef3-ade4-6fa3bc4565f3')\"\n",
              "              title=\"Convert this dataframe to an interactive table.\"\n",
              "              style=\"display:none;\">\n",
              "        \n",
              "  <svg xmlns=\"http://www.w3.org/2000/svg\" height=\"24px\"viewBox=\"0 0 24 24\"\n",
              "       width=\"24px\">\n",
              "    <path d=\"M0 0h24v24H0V0z\" fill=\"none\"/>\n",
              "    <path d=\"M18.56 5.44l.94 2.06.94-2.06 2.06-.94-2.06-.94-.94-2.06-.94 2.06-2.06.94zm-11 1L8.5 8.5l.94-2.06 2.06-.94-2.06-.94L8.5 2.5l-.94 2.06-2.06.94zm10 10l.94 2.06.94-2.06 2.06-.94-2.06-.94-.94-2.06-.94 2.06-2.06.94z\"/><path d=\"M17.41 7.96l-1.37-1.37c-.4-.4-.92-.59-1.43-.59-.52 0-1.04.2-1.43.59L10.3 9.45l-7.72 7.72c-.78.78-.78 2.05 0 2.83L4 21.41c.39.39.9.59 1.41.59.51 0 1.02-.2 1.41-.59l7.78-7.78 2.81-2.81c.8-.78.8-2.07 0-2.86zM5.41 20L4 18.59l7.72-7.72 1.47 1.35L5.41 20z\"/>\n",
              "  </svg>\n",
              "      </button>\n",
              "      \n",
              "  <style>\n",
              "    .colab-df-container {\n",
              "      display:flex;\n",
              "      flex-wrap:wrap;\n",
              "      gap: 12px;\n",
              "    }\n",
              "\n",
              "    .colab-df-convert {\n",
              "      background-color: #E8F0FE;\n",
              "      border: none;\n",
              "      border-radius: 50%;\n",
              "      cursor: pointer;\n",
              "      display: none;\n",
              "      fill: #1967D2;\n",
              "      height: 32px;\n",
              "      padding: 0 0 0 0;\n",
              "      width: 32px;\n",
              "    }\n",
              "\n",
              "    .colab-df-convert:hover {\n",
              "      background-color: #E2EBFA;\n",
              "      box-shadow: 0px 1px 2px rgba(60, 64, 67, 0.3), 0px 1px 3px 1px rgba(60, 64, 67, 0.15);\n",
              "      fill: #174EA6;\n",
              "    }\n",
              "\n",
              "    [theme=dark] .colab-df-convert {\n",
              "      background-color: #3B4455;\n",
              "      fill: #D2E3FC;\n",
              "    }\n",
              "\n",
              "    [theme=dark] .colab-df-convert:hover {\n",
              "      background-color: #434B5C;\n",
              "      box-shadow: 0px 1px 3px 1px rgba(0, 0, 0, 0.15);\n",
              "      filter: drop-shadow(0px 1px 2px rgba(0, 0, 0, 0.3));\n",
              "      fill: #FFFFFF;\n",
              "    }\n",
              "  </style>\n",
              "\n",
              "      <script>\n",
              "        const buttonEl =\n",
              "          document.querySelector('#df-716bc234-c8b2-4ef3-ade4-6fa3bc4565f3 button.colab-df-convert');\n",
              "        buttonEl.style.display =\n",
              "          google.colab.kernel.accessAllowed ? 'block' : 'none';\n",
              "\n",
              "        async function convertToInteractive(key) {\n",
              "          const element = document.querySelector('#df-716bc234-c8b2-4ef3-ade4-6fa3bc4565f3');\n",
              "          const dataTable =\n",
              "            await google.colab.kernel.invokeFunction('convertToInteractive',\n",
              "                                                     [key], {});\n",
              "          if (!dataTable) return;\n",
              "\n",
              "          const docLinkHtml = 'Like what you see? Visit the ' +\n",
              "            '<a target=\"_blank\" href=https://colab.research.google.com/notebooks/data_table.ipynb>data table notebook</a>'\n",
              "            + ' to learn more about interactive tables.';\n",
              "          element.innerHTML = '';\n",
              "          dataTable['output_type'] = 'display_data';\n",
              "          await google.colab.output.renderOutput(dataTable, element);\n",
              "          const docLink = document.createElement('div');\n",
              "          docLink.innerHTML = docLinkHtml;\n",
              "          element.appendChild(docLink);\n",
              "        }\n",
              "      </script>\n",
              "    </div>\n",
              "  </div>\n",
              "  "
            ]
          },
          "metadata": {},
          "execution_count": 14
        }
      ]
    },
    {
      "cell_type": "code",
      "source": [
        "# Print the classification report for the model\n",
        "print(classification_report(y_test, LR_predictions))"
      ],
      "metadata": {
        "colab": {
          "base_uri": "https://localhost:8080/"
        },
        "id": "aZY0lsG5Gpod",
        "outputId": "c839165f-9166-4bb1-e271-f6b008e2f704"
      },
      "id": "aZY0lsG5Gpod",
      "execution_count": 15,
      "outputs": [
        {
          "output_type": "stream",
          "name": "stdout",
          "text": [
            "              precision    recall  f1-score   support\n",
            "\n",
            "           0       1.00      1.00      1.00   1585872\n",
            "           1       0.36      0.78      0.49      1927\n",
            "\n",
            "    accuracy                           1.00   1587799\n",
            "   macro avg       0.68      0.89      0.74   1587799\n",
            "weighted avg       1.00      1.00      1.00   1587799\n",
            "\n"
          ]
        }
      ]
    },
    {
      "cell_type": "markdown",
      "source": [
        "---\n",
        "\n",
        "\n"
      ],
      "metadata": {
        "id": "UqkAzkN-HHRO"
      },
      "id": "UqkAzkN-HHRO"
    },
    {
      "cell_type": "code",
      "source": [
        "# Instantiate the random oversampler model\n",
        "# # Assign a random_state parameter of 1 to the model\n",
        "ROS_model = RandomOverSampler(random_state = 1)\n",
        "\n",
        "# Fit the original training data to the random_oversampler model\n",
        "X_oversampled, y_oversampled = ROS_model.fit_resample(X_train, y_train)"
      ],
      "metadata": {
        "id": "lzNIJajvHfao"
      },
      "id": "lzNIJajvHfao",
      "execution_count": 16,
      "outputs": []
    },
    {
      "cell_type": "code",
      "source": [
        "# Instantiate the Logistic Regression model\n",
        "# Assign a random_state parameter of 1 to the model\n",
        "LR_oversampled_model = LogisticRegression(random_state = 1)\n",
        "\n",
        "# Fit the model using the resampled training data\n",
        "LR_oversampled_model.fit(X_oversampled, y_oversampled)\n",
        "\n",
        "# Make a prediction using the testing data\n",
        "LR_oversampled_pred = LR_oversampled_model.predict(X_test)"
      ],
      "metadata": {
        "id": "gAQfnE65H9dq",
        "colab": {
          "base_uri": "https://localhost:8080/"
        },
        "outputId": "c2a44c3d-a3a1-4bdb-cac8-73d38ebb66f1"
      },
      "id": "gAQfnE65H9dq",
      "execution_count": 17,
      "outputs": [
        {
          "output_type": "stream",
          "name": "stderr",
          "text": [
            "/usr/local/lib/python3.10/dist-packages/sklearn/utils/validation.py:1143: DataConversionWarning: A column-vector y was passed when a 1d array was expected. Please change the shape of y to (n_samples, ), for example using ravel().\n",
            "  y = column_or_1d(y, warn=True)\n"
          ]
        }
      ]
    },
    {
      "cell_type": "code",
      "source": [
        "# Print the balanced_accuracy score of the model \n",
        "balanced_accuracy_score(y_test, LR_oversampled_pred)"
      ],
      "metadata": {
        "colab": {
          "base_uri": "https://localhost:8080/"
        },
        "id": "Pd3kk8TkIPgz",
        "outputId": "592edf62-44f9-451c-85e0-1a55f608fb9e"
      },
      "id": "Pd3kk8TkIPgz",
      "execution_count": 18,
      "outputs": [
        {
          "output_type": "execute_result",
          "data": {
            "text/plain": [
              "0.8426175294757221"
            ]
          },
          "metadata": {},
          "execution_count": 18
        }
      ]
    },
    {
      "cell_type": "code",
      "source": [
        "# Generate a confusion matrix for the model\n",
        "epsilon = confusion_matrix(y_test, LR_oversampled_pred)\n",
        "epsilon_df = pd.DataFrame(epsilon, \n",
        "                                index = ['Actual Healthy Loans (low-risk)', \n",
        "                                'Actual Non-Healthy Loans (high-risk)'], \n",
        "                                columns = ['Predicted Healthy Loans (low-risk)', 'Predicted Non-Healthy Loans (high-risk)']\n",
        "                              )\n",
        "epsilon_df"
      ],
      "metadata": {
        "colab": {
          "base_uri": "https://localhost:8080/",
          "height": 112
        },
        "id": "4YUJKGfBJADs",
        "outputId": "6a8c4cd5-3103-4fc4-8a8c-9c56af79a73d"
      },
      "id": "4YUJKGfBJADs",
      "execution_count": 19,
      "outputs": [
        {
          "output_type": "execute_result",
          "data": {
            "text/plain": [
              "                                      Predicted Healthy Loans (low-risk)  \\\n",
              "Actual Healthy Loans (low-risk)                                  1122083   \n",
              "Actual Non-Healthy Loans (high-risk)                                  43   \n",
              "\n",
              "                                      Predicted Non-Healthy Loans (high-risk)  \n",
              "Actual Healthy Loans (low-risk)                                        463789  \n",
              "Actual Non-Healthy Loans (high-risk)                                     1884  "
            ],
            "text/html": [
              "\n",
              "  <div id=\"df-7ece106f-efac-497c-b065-3a3b4e0da419\">\n",
              "    <div class=\"colab-df-container\">\n",
              "      <div>\n",
              "<style scoped>\n",
              "    .dataframe tbody tr th:only-of-type {\n",
              "        vertical-align: middle;\n",
              "    }\n",
              "\n",
              "    .dataframe tbody tr th {\n",
              "        vertical-align: top;\n",
              "    }\n",
              "\n",
              "    .dataframe thead th {\n",
              "        text-align: right;\n",
              "    }\n",
              "</style>\n",
              "<table border=\"1\" class=\"dataframe\">\n",
              "  <thead>\n",
              "    <tr style=\"text-align: right;\">\n",
              "      <th></th>\n",
              "      <th>Predicted Healthy Loans (low-risk)</th>\n",
              "      <th>Predicted Non-Healthy Loans (high-risk)</th>\n",
              "    </tr>\n",
              "  </thead>\n",
              "  <tbody>\n",
              "    <tr>\n",
              "      <th>Actual Healthy Loans (low-risk)</th>\n",
              "      <td>1122083</td>\n",
              "      <td>463789</td>\n",
              "    </tr>\n",
              "    <tr>\n",
              "      <th>Actual Non-Healthy Loans (high-risk)</th>\n",
              "      <td>43</td>\n",
              "      <td>1884</td>\n",
              "    </tr>\n",
              "  </tbody>\n",
              "</table>\n",
              "</div>\n",
              "      <button class=\"colab-df-convert\" onclick=\"convertToInteractive('df-7ece106f-efac-497c-b065-3a3b4e0da419')\"\n",
              "              title=\"Convert this dataframe to an interactive table.\"\n",
              "              style=\"display:none;\">\n",
              "        \n",
              "  <svg xmlns=\"http://www.w3.org/2000/svg\" height=\"24px\"viewBox=\"0 0 24 24\"\n",
              "       width=\"24px\">\n",
              "    <path d=\"M0 0h24v24H0V0z\" fill=\"none\"/>\n",
              "    <path d=\"M18.56 5.44l.94 2.06.94-2.06 2.06-.94-2.06-.94-.94-2.06-.94 2.06-2.06.94zm-11 1L8.5 8.5l.94-2.06 2.06-.94-2.06-.94L8.5 2.5l-.94 2.06-2.06.94zm10 10l.94 2.06.94-2.06 2.06-.94-2.06-.94-.94-2.06-.94 2.06-2.06.94z\"/><path d=\"M17.41 7.96l-1.37-1.37c-.4-.4-.92-.59-1.43-.59-.52 0-1.04.2-1.43.59L10.3 9.45l-7.72 7.72c-.78.78-.78 2.05 0 2.83L4 21.41c.39.39.9.59 1.41.59.51 0 1.02-.2 1.41-.59l7.78-7.78 2.81-2.81c.8-.78.8-2.07 0-2.86zM5.41 20L4 18.59l7.72-7.72 1.47 1.35L5.41 20z\"/>\n",
              "  </svg>\n",
              "      </button>\n",
              "      \n",
              "  <style>\n",
              "    .colab-df-container {\n",
              "      display:flex;\n",
              "      flex-wrap:wrap;\n",
              "      gap: 12px;\n",
              "    }\n",
              "\n",
              "    .colab-df-convert {\n",
              "      background-color: #E8F0FE;\n",
              "      border: none;\n",
              "      border-radius: 50%;\n",
              "      cursor: pointer;\n",
              "      display: none;\n",
              "      fill: #1967D2;\n",
              "      height: 32px;\n",
              "      padding: 0 0 0 0;\n",
              "      width: 32px;\n",
              "    }\n",
              "\n",
              "    .colab-df-convert:hover {\n",
              "      background-color: #E2EBFA;\n",
              "      box-shadow: 0px 1px 2px rgba(60, 64, 67, 0.3), 0px 1px 3px 1px rgba(60, 64, 67, 0.15);\n",
              "      fill: #174EA6;\n",
              "    }\n",
              "\n",
              "    [theme=dark] .colab-df-convert {\n",
              "      background-color: #3B4455;\n",
              "      fill: #D2E3FC;\n",
              "    }\n",
              "\n",
              "    [theme=dark] .colab-df-convert:hover {\n",
              "      background-color: #434B5C;\n",
              "      box-shadow: 0px 1px 3px 1px rgba(0, 0, 0, 0.15);\n",
              "      filter: drop-shadow(0px 1px 2px rgba(0, 0, 0, 0.3));\n",
              "      fill: #FFFFFF;\n",
              "    }\n",
              "  </style>\n",
              "\n",
              "      <script>\n",
              "        const buttonEl =\n",
              "          document.querySelector('#df-7ece106f-efac-497c-b065-3a3b4e0da419 button.colab-df-convert');\n",
              "        buttonEl.style.display =\n",
              "          google.colab.kernel.accessAllowed ? 'block' : 'none';\n",
              "\n",
              "        async function convertToInteractive(key) {\n",
              "          const element = document.querySelector('#df-7ece106f-efac-497c-b065-3a3b4e0da419');\n",
              "          const dataTable =\n",
              "            await google.colab.kernel.invokeFunction('convertToInteractive',\n",
              "                                                     [key], {});\n",
              "          if (!dataTable) return;\n",
              "\n",
              "          const docLinkHtml = 'Like what you see? Visit the ' +\n",
              "            '<a target=\"_blank\" href=https://colab.research.google.com/notebooks/data_table.ipynb>data table notebook</a>'\n",
              "            + ' to learn more about interactive tables.';\n",
              "          element.innerHTML = '';\n",
              "          dataTable['output_type'] = 'display_data';\n",
              "          await google.colab.output.renderOutput(dataTable, element);\n",
              "          const docLink = document.createElement('div');\n",
              "          docLink.innerHTML = docLinkHtml;\n",
              "          element.appendChild(docLink);\n",
              "        }\n",
              "      </script>\n",
              "    </div>\n",
              "  </div>\n",
              "  "
            ]
          },
          "metadata": {},
          "execution_count": 19
        }
      ]
    },
    {
      "cell_type": "code",
      "source": [
        "# Print the classification report for the model\n",
        "print(classification_report(y_test, LR_oversampled_pred))"
      ],
      "metadata": {
        "colab": {
          "base_uri": "https://localhost:8080/"
        },
        "id": "B-g7FCWrJVOW",
        "outputId": "ffd18fde-dc31-4e51-d2f4-86aa96508ad7"
      },
      "id": "B-g7FCWrJVOW",
      "execution_count": 20,
      "outputs": [
        {
          "output_type": "stream",
          "name": "stdout",
          "text": [
            "              precision    recall  f1-score   support\n",
            "\n",
            "           0       1.00      0.71      0.83   1585872\n",
            "           1       0.00      0.98      0.01      1927\n",
            "\n",
            "    accuracy                           0.71   1587799\n",
            "   macro avg       0.50      0.84      0.42   1587799\n",
            "weighted avg       1.00      0.71      0.83   1587799\n",
            "\n"
          ]
        }
      ]
    }
  ],
  "metadata": {
    "colab": {
      "provenance": []
    },
    "language_info": {
      "name": "python"
    },
    "kernelspec": {
      "name": "python3",
      "display_name": "Python 3"
    }
  },
  "nbformat": 4,
  "nbformat_minor": 5
}
{
  "cells": [
    {
      "cell_type": "markdown",
      "metadata": {
        "id": "view-in-github",
        "colab_type": "text"
      },
      "source": [
        "<a href=\"https://colab.research.google.com/github/Adrian-Stahl/Project-4/blob/main/Copy_of_Credit_Card_Fraud_Detection_Machine_Learning_checkpoint.ipynb\" target=\"_parent\"><img src=\"https://colab.research.google.com/assets/colab-badge.svg\" alt=\"Open In Colab\"/></a>"
      ]
    },
    {
      "cell_type": "code",
      "source": [
        "from sklearn.model_selection import train_test_split\n",
        "from sklearn.preprocessing import StandardScaler\n",
        "import pandas as pd\n",
        "from pathlib import Path\n",
        "import tensorflow as tf\n",
        "import matplotlib.pyplot as plt\n",
        "from sklearn.metrics import balanced_accuracy_score, confusion_matrix, classification_report\n",
        "#  Import and read the charity_data.csv.\n",
        "import pandas as pd \n",
        "\n"
      ],
      "metadata": {
        "id": "SOcrZhjJfj7_"
      },
      "id": "SOcrZhjJfj7_",
      "execution_count": 37,
      "outputs": []
    },
    {
      "cell_type": "code",
      "source": [
        "from google.colab import drive\n",
        "drive.mount('/content/drive')"
      ],
      "metadata": {
        "colab": {
          "base_uri": "https://localhost:8080/"
        },
        "id": "AD4dvT7lmkot",
        "outputId": "c6171162-1d6a-4bc9-93a9-e9e40db73ca9"
      },
      "id": "AD4dvT7lmkot",
      "execution_count": 38,
      "outputs": [
        {
          "output_type": "stream",
          "name": "stdout",
          "text": [
            "Drive already mounted at /content/drive; to attempt to forcibly remount, call drive.mount(\"/content/drive\", force_remount=True).\n"
          ]
        }
      ]
    },
    {
      "cell_type": "code",
      "source": [
        "#initial_df = open('/content/drive/MyDrive/transactions_train.csv')\n",
        "initial_df = open('/content/drive/MyDrive/transactions_train.csv')"
      ],
      "metadata": {
        "id": "fYhvXX8uk8Wb"
      },
      "id": "fYhvXX8uk8Wb",
      "execution_count": 39,
      "outputs": []
    },
    {
      "cell_type": "code",
      "source": [
        "initial_df"
      ],
      "metadata": {
        "id": "9lw1PPOmk7NN",
        "outputId": "655218d1-8fd9-461f-cefb-3f6310b8bde3",
        "colab": {
          "base_uri": "https://localhost:8080/"
        }
      },
      "id": "9lw1PPOmk7NN",
      "execution_count": 40,
      "outputs": [
        {
          "output_type": "execute_result",
          "data": {
            "text/plain": [
              "<_io.TextIOWrapper name='/content/drive/MyDrive/transactions_train.csv' mode='r' encoding='UTF-8'>"
            ]
          },
          "metadata": {},
          "execution_count": 40
        }
      ]
    },
    {
      "cell_type": "code",
      "source": [
        "initial_df = pd.read_csv(\n",
        "    Path('/content/drive/MyDrive/transactions_train.csv')\n",
        ")"
      ],
      "metadata": {
        "id": "FlJGQfcqtSlI"
      },
      "id": "FlJGQfcqtSlI",
      "execution_count": 41,
      "outputs": []
    },
    {
      "cell_type": "code",
      "source": [
        "display(initial_df.head())"
      ],
      "metadata": {
        "id": "G8KXiG6hudUK",
        "outputId": "31c3d740-2656-4795-f80e-0b5fcd608e0d",
        "colab": {
          "base_uri": "https://localhost:8080/",
          "height": 206
        }
      },
      "id": "G8KXiG6hudUK",
      "execution_count": 42,
      "outputs": [
        {
          "output_type": "display_data",
          "data": {
            "text/plain": [
              "   step      type    amount     nameOrig  oldbalanceOrig  newbalanceOrig  \\\n",
              "0     1   PAYMENT   9839.64  C1231006815        170136.0       160296.36   \n",
              "1     1   PAYMENT   1864.28  C1666544295         21249.0        19384.72   \n",
              "2     1  TRANSFER    181.00  C1305486145           181.0            0.00   \n",
              "3     1  CASH_OUT    181.00   C840083671           181.0            0.00   \n",
              "4     1   PAYMENT  11668.14  C2048537720         41554.0        29885.86   \n",
              "\n",
              "      nameDest  oldbalanceDest  newbalanceDest  isFraud  \n",
              "0  M1979787155             0.0             0.0        0  \n",
              "1  M2044282225             0.0             0.0        0  \n",
              "2   C553264065             0.0             0.0        1  \n",
              "3    C38997010         21182.0             0.0        1  \n",
              "4  M1230701703             0.0             0.0        0  "
            ],
            "text/html": [
              "\n",
              "  <div id=\"df-5a3340c4-f99b-4c10-8058-46c9b46bee0c\">\n",
              "    <div class=\"colab-df-container\">\n",
              "      <div>\n",
              "<style scoped>\n",
              "    .dataframe tbody tr th:only-of-type {\n",
              "        vertical-align: middle;\n",
              "    }\n",
              "\n",
              "    .dataframe tbody tr th {\n",
              "        vertical-align: top;\n",
              "    }\n",
              "\n",
              "    .dataframe thead th {\n",
              "        text-align: right;\n",
              "    }\n",
              "</style>\n",
              "<table border=\"1\" class=\"dataframe\">\n",
              "  <thead>\n",
              "    <tr style=\"text-align: right;\">\n",
              "      <th></th>\n",
              "      <th>step</th>\n",
              "      <th>type</th>\n",
              "      <th>amount</th>\n",
              "      <th>nameOrig</th>\n",
              "      <th>oldbalanceOrig</th>\n",
              "      <th>newbalanceOrig</th>\n",
              "      <th>nameDest</th>\n",
              "      <th>oldbalanceDest</th>\n",
              "      <th>newbalanceDest</th>\n",
              "      <th>isFraud</th>\n",
              "    </tr>\n",
              "  </thead>\n",
              "  <tbody>\n",
              "    <tr>\n",
              "      <th>0</th>\n",
              "      <td>1</td>\n",
              "      <td>PAYMENT</td>\n",
              "      <td>9839.64</td>\n",
              "      <td>C1231006815</td>\n",
              "      <td>170136.0</td>\n",
              "      <td>160296.36</td>\n",
              "      <td>M1979787155</td>\n",
              "      <td>0.0</td>\n",
              "      <td>0.0</td>\n",
              "      <td>0</td>\n",
              "    </tr>\n",
              "    <tr>\n",
              "      <th>1</th>\n",
              "      <td>1</td>\n",
              "      <td>PAYMENT</td>\n",
              "      <td>1864.28</td>\n",
              "      <td>C1666544295</td>\n",
              "      <td>21249.0</td>\n",
              "      <td>19384.72</td>\n",
              "      <td>M2044282225</td>\n",
              "      <td>0.0</td>\n",
              "      <td>0.0</td>\n",
              "      <td>0</td>\n",
              "    </tr>\n",
              "    <tr>\n",
              "      <th>2</th>\n",
              "      <td>1</td>\n",
              "      <td>TRANSFER</td>\n",
              "      <td>181.00</td>\n",
              "      <td>C1305486145</td>\n",
              "      <td>181.0</td>\n",
              "      <td>0.00</td>\n",
              "      <td>C553264065</td>\n",
              "      <td>0.0</td>\n",
              "      <td>0.0</td>\n",
              "      <td>1</td>\n",
              "    </tr>\n",
              "    <tr>\n",
              "      <th>3</th>\n",
              "      <td>1</td>\n",
              "      <td>CASH_OUT</td>\n",
              "      <td>181.00</td>\n",
              "      <td>C840083671</td>\n",
              "      <td>181.0</td>\n",
              "      <td>0.00</td>\n",
              "      <td>C38997010</td>\n",
              "      <td>21182.0</td>\n",
              "      <td>0.0</td>\n",
              "      <td>1</td>\n",
              "    </tr>\n",
              "    <tr>\n",
              "      <th>4</th>\n",
              "      <td>1</td>\n",
              "      <td>PAYMENT</td>\n",
              "      <td>11668.14</td>\n",
              "      <td>C2048537720</td>\n",
              "      <td>41554.0</td>\n",
              "      <td>29885.86</td>\n",
              "      <td>M1230701703</td>\n",
              "      <td>0.0</td>\n",
              "      <td>0.0</td>\n",
              "      <td>0</td>\n",
              "    </tr>\n",
              "  </tbody>\n",
              "</table>\n",
              "</div>\n",
              "      <button class=\"colab-df-convert\" onclick=\"convertToInteractive('df-5a3340c4-f99b-4c10-8058-46c9b46bee0c')\"\n",
              "              title=\"Convert this dataframe to an interactive table.\"\n",
              "              style=\"display:none;\">\n",
              "        \n",
              "  <svg xmlns=\"http://www.w3.org/2000/svg\" height=\"24px\"viewBox=\"0 0 24 24\"\n",
              "       width=\"24px\">\n",
              "    <path d=\"M0 0h24v24H0V0z\" fill=\"none\"/>\n",
              "    <path d=\"M18.56 5.44l.94 2.06.94-2.06 2.06-.94-2.06-.94-.94-2.06-.94 2.06-2.06.94zm-11 1L8.5 8.5l.94-2.06 2.06-.94-2.06-.94L8.5 2.5l-.94 2.06-2.06.94zm10 10l.94 2.06.94-2.06 2.06-.94-2.06-.94-.94-2.06-.94 2.06-2.06.94z\"/><path d=\"M17.41 7.96l-1.37-1.37c-.4-.4-.92-.59-1.43-.59-.52 0-1.04.2-1.43.59L10.3 9.45l-7.72 7.72c-.78.78-.78 2.05 0 2.83L4 21.41c.39.39.9.59 1.41.59.51 0 1.02-.2 1.41-.59l7.78-7.78 2.81-2.81c.8-.78.8-2.07 0-2.86zM5.41 20L4 18.59l7.72-7.72 1.47 1.35L5.41 20z\"/>\n",
              "  </svg>\n",
              "      </button>\n",
              "      \n",
              "  <style>\n",
              "    .colab-df-container {\n",
              "      display:flex;\n",
              "      flex-wrap:wrap;\n",
              "      gap: 12px;\n",
              "    }\n",
              "\n",
              "    .colab-df-convert {\n",
              "      background-color: #E8F0FE;\n",
              "      border: none;\n",
              "      border-radius: 50%;\n",
              "      cursor: pointer;\n",
              "      display: none;\n",
              "      fill: #1967D2;\n",
              "      height: 32px;\n",
              "      padding: 0 0 0 0;\n",
              "      width: 32px;\n",
              "    }\n",
              "\n",
              "    .colab-df-convert:hover {\n",
              "      background-color: #E2EBFA;\n",
              "      box-shadow: 0px 1px 2px rgba(60, 64, 67, 0.3), 0px 1px 3px 1px rgba(60, 64, 67, 0.15);\n",
              "      fill: #174EA6;\n",
              "    }\n",
              "\n",
              "    [theme=dark] .colab-df-convert {\n",
              "      background-color: #3B4455;\n",
              "      fill: #D2E3FC;\n",
              "    }\n",
              "\n",
              "    [theme=dark] .colab-df-convert:hover {\n",
              "      background-color: #434B5C;\n",
              "      box-shadow: 0px 1px 3px 1px rgba(0, 0, 0, 0.15);\n",
              "      filter: drop-shadow(0px 1px 2px rgba(0, 0, 0, 0.3));\n",
              "      fill: #FFFFFF;\n",
              "    }\n",
              "  </style>\n",
              "\n",
              "      <script>\n",
              "        const buttonEl =\n",
              "          document.querySelector('#df-5a3340c4-f99b-4c10-8058-46c9b46bee0c button.colab-df-convert');\n",
              "        buttonEl.style.display =\n",
              "          google.colab.kernel.accessAllowed ? 'block' : 'none';\n",
              "\n",
              "        async function convertToInteractive(key) {\n",
              "          const element = document.querySelector('#df-5a3340c4-f99b-4c10-8058-46c9b46bee0c');\n",
              "          const dataTable =\n",
              "            await google.colab.kernel.invokeFunction('convertToInteractive',\n",
              "                                                     [key], {});\n",
              "          if (!dataTable) return;\n",
              "\n",
              "          const docLinkHtml = 'Like what you see? Visit the ' +\n",
              "            '<a target=\"_blank\" href=https://colab.research.google.com/notebooks/data_table.ipynb>data table notebook</a>'\n",
              "            + ' to learn more about interactive tables.';\n",
              "          element.innerHTML = '';\n",
              "          dataTable['output_type'] = 'display_data';\n",
              "          await google.colab.output.renderOutput(dataTable, element);\n",
              "          const docLink = document.createElement('div');\n",
              "          docLink.innerHTML = docLinkHtml;\n",
              "          element.appendChild(docLink);\n",
              "        }\n",
              "      </script>\n",
              "    </div>\n",
              "  </div>\n",
              "  "
            ]
          },
          "metadata": {}
        }
      ]
    },
    {
      "cell_type": "code",
      "source": [
        "#Dropping the non-beneficial step column, 'step'\n",
        "beta_df = initial_df.drop(columns = ['step'])\n",
        "\n",
        "#optional route #1 - Dropping all columns that have alphabetic values. \n",
        "gamma_df = beta_df.drop(columns = ['type', 'nameOrig', 'nameDest'])"
      ],
      "metadata": {
        "id": "_-SDkq_XuMsO"
      },
      "id": "_-SDkq_XuMsO",
      "execution_count": 43,
      "outputs": []
    },
    {
      "cell_type": "code",
      "source": [
        "#displaying the dataset with the dropped column\n",
        "gamma_df\n",
        "\n",
        "#beta_df['type'] = beta_df['type'].astype(float)"
      ],
      "metadata": {
        "colab": {
          "base_uri": "https://localhost:8080/",
          "height": 424
        },
        "id": "uTK2SiBtv8gI",
        "outputId": "2ea05bbd-09d5-470f-82b6-bf65797f3410"
      },
      "id": "uTK2SiBtv8gI",
      "execution_count": 44,
      "outputs": [
        {
          "output_type": "execute_result",
          "data": {
            "text/plain": [
              "             amount  oldbalanceOrig  newbalanceOrig  oldbalanceDest  \\\n",
              "0           9839.64       170136.00       160296.36            0.00   \n",
              "1           1864.28        21249.00        19384.72            0.00   \n",
              "2            181.00          181.00            0.00            0.00   \n",
              "3            181.00          181.00            0.00        21182.00   \n",
              "4          11668.14        41554.00        29885.86            0.00   \n",
              "...             ...             ...             ...             ...   \n",
              "6351188   162326.52       162326.52            0.00            0.00   \n",
              "6351189   162326.52       162326.52            0.00            0.00   \n",
              "6351190  2763398.31      2763398.31            0.00            0.00   \n",
              "6351191  2763398.31      2763398.31            0.00       339515.35   \n",
              "6351192      578.21        10575.00         9996.79       127072.23   \n",
              "\n",
              "         newbalanceDest  isFraud  \n",
              "0                  0.00        0  \n",
              "1                  0.00        0  \n",
              "2                  0.00        1  \n",
              "3                  0.00        1  \n",
              "4                  0.00        0  \n",
              "...                 ...      ...  \n",
              "6351188            0.00        1  \n",
              "6351189       162326.52        1  \n",
              "6351190            0.00        1  \n",
              "6351191      3102913.66        1  \n",
              "6351192       127650.44        0  \n",
              "\n",
              "[6351193 rows x 6 columns]"
            ],
            "text/html": [
              "\n",
              "  <div id=\"df-b24f20ea-05eb-4aa2-9fdb-2a7f0fb4d795\">\n",
              "    <div class=\"colab-df-container\">\n",
              "      <div>\n",
              "<style scoped>\n",
              "    .dataframe tbody tr th:only-of-type {\n",
              "        vertical-align: middle;\n",
              "    }\n",
              "\n",
              "    .dataframe tbody tr th {\n",
              "        vertical-align: top;\n",
              "    }\n",
              "\n",
              "    .dataframe thead th {\n",
              "        text-align: right;\n",
              "    }\n",
              "</style>\n",
              "<table border=\"1\" class=\"dataframe\">\n",
              "  <thead>\n",
              "    <tr style=\"text-align: right;\">\n",
              "      <th></th>\n",
              "      <th>amount</th>\n",
              "      <th>oldbalanceOrig</th>\n",
              "      <th>newbalanceOrig</th>\n",
              "      <th>oldbalanceDest</th>\n",
              "      <th>newbalanceDest</th>\n",
              "      <th>isFraud</th>\n",
              "    </tr>\n",
              "  </thead>\n",
              "  <tbody>\n",
              "    <tr>\n",
              "      <th>0</th>\n",
              "      <td>9839.64</td>\n",
              "      <td>170136.00</td>\n",
              "      <td>160296.36</td>\n",
              "      <td>0.00</td>\n",
              "      <td>0.00</td>\n",
              "      <td>0</td>\n",
              "    </tr>\n",
              "    <tr>\n",
              "      <th>1</th>\n",
              "      <td>1864.28</td>\n",
              "      <td>21249.00</td>\n",
              "      <td>19384.72</td>\n",
              "      <td>0.00</td>\n",
              "      <td>0.00</td>\n",
              "      <td>0</td>\n",
              "    </tr>\n",
              "    <tr>\n",
              "      <th>2</th>\n",
              "      <td>181.00</td>\n",
              "      <td>181.00</td>\n",
              "      <td>0.00</td>\n",
              "      <td>0.00</td>\n",
              "      <td>0.00</td>\n",
              "      <td>1</td>\n",
              "    </tr>\n",
              "    <tr>\n",
              "      <th>3</th>\n",
              "      <td>181.00</td>\n",
              "      <td>181.00</td>\n",
              "      <td>0.00</td>\n",
              "      <td>21182.00</td>\n",
              "      <td>0.00</td>\n",
              "      <td>1</td>\n",
              "    </tr>\n",
              "    <tr>\n",
              "      <th>4</th>\n",
              "      <td>11668.14</td>\n",
              "      <td>41554.00</td>\n",
              "      <td>29885.86</td>\n",
              "      <td>0.00</td>\n",
              "      <td>0.00</td>\n",
              "      <td>0</td>\n",
              "    </tr>\n",
              "    <tr>\n",
              "      <th>...</th>\n",
              "      <td>...</td>\n",
              "      <td>...</td>\n",
              "      <td>...</td>\n",
              "      <td>...</td>\n",
              "      <td>...</td>\n",
              "      <td>...</td>\n",
              "    </tr>\n",
              "    <tr>\n",
              "      <th>6351188</th>\n",
              "      <td>162326.52</td>\n",
              "      <td>162326.52</td>\n",
              "      <td>0.00</td>\n",
              "      <td>0.00</td>\n",
              "      <td>0.00</td>\n",
              "      <td>1</td>\n",
              "    </tr>\n",
              "    <tr>\n",
              "      <th>6351189</th>\n",
              "      <td>162326.52</td>\n",
              "      <td>162326.52</td>\n",
              "      <td>0.00</td>\n",
              "      <td>0.00</td>\n",
              "      <td>162326.52</td>\n",
              "      <td>1</td>\n",
              "    </tr>\n",
              "    <tr>\n",
              "      <th>6351190</th>\n",
              "      <td>2763398.31</td>\n",
              "      <td>2763398.31</td>\n",
              "      <td>0.00</td>\n",
              "      <td>0.00</td>\n",
              "      <td>0.00</td>\n",
              "      <td>1</td>\n",
              "    </tr>\n",
              "    <tr>\n",
              "      <th>6351191</th>\n",
              "      <td>2763398.31</td>\n",
              "      <td>2763398.31</td>\n",
              "      <td>0.00</td>\n",
              "      <td>339515.35</td>\n",
              "      <td>3102913.66</td>\n",
              "      <td>1</td>\n",
              "    </tr>\n",
              "    <tr>\n",
              "      <th>6351192</th>\n",
              "      <td>578.21</td>\n",
              "      <td>10575.00</td>\n",
              "      <td>9996.79</td>\n",
              "      <td>127072.23</td>\n",
              "      <td>127650.44</td>\n",
              "      <td>0</td>\n",
              "    </tr>\n",
              "  </tbody>\n",
              "</table>\n",
              "<p>6351193 rows × 6 columns</p>\n",
              "</div>\n",
              "      <button class=\"colab-df-convert\" onclick=\"convertToInteractive('df-b24f20ea-05eb-4aa2-9fdb-2a7f0fb4d795')\"\n",
              "              title=\"Convert this dataframe to an interactive table.\"\n",
              "              style=\"display:none;\">\n",
              "        \n",
              "  <svg xmlns=\"http://www.w3.org/2000/svg\" height=\"24px\"viewBox=\"0 0 24 24\"\n",
              "       width=\"24px\">\n",
              "    <path d=\"M0 0h24v24H0V0z\" fill=\"none\"/>\n",
              "    <path d=\"M18.56 5.44l.94 2.06.94-2.06 2.06-.94-2.06-.94-.94-2.06-.94 2.06-2.06.94zm-11 1L8.5 8.5l.94-2.06 2.06-.94-2.06-.94L8.5 2.5l-.94 2.06-2.06.94zm10 10l.94 2.06.94-2.06 2.06-.94-2.06-.94-.94-2.06-.94 2.06-2.06.94z\"/><path d=\"M17.41 7.96l-1.37-1.37c-.4-.4-.92-.59-1.43-.59-.52 0-1.04.2-1.43.59L10.3 9.45l-7.72 7.72c-.78.78-.78 2.05 0 2.83L4 21.41c.39.39.9.59 1.41.59.51 0 1.02-.2 1.41-.59l7.78-7.78 2.81-2.81c.8-.78.8-2.07 0-2.86zM5.41 20L4 18.59l7.72-7.72 1.47 1.35L5.41 20z\"/>\n",
              "  </svg>\n",
              "      </button>\n",
              "      \n",
              "  <style>\n",
              "    .colab-df-container {\n",
              "      display:flex;\n",
              "      flex-wrap:wrap;\n",
              "      gap: 12px;\n",
              "    }\n",
              "\n",
              "    .colab-df-convert {\n",
              "      background-color: #E8F0FE;\n",
              "      border: none;\n",
              "      border-radius: 50%;\n",
              "      cursor: pointer;\n",
              "      display: none;\n",
              "      fill: #1967D2;\n",
              "      height: 32px;\n",
              "      padding: 0 0 0 0;\n",
              "      width: 32px;\n",
              "    }\n",
              "\n",
              "    .colab-df-convert:hover {\n",
              "      background-color: #E2EBFA;\n",
              "      box-shadow: 0px 1px 2px rgba(60, 64, 67, 0.3), 0px 1px 3px 1px rgba(60, 64, 67, 0.15);\n",
              "      fill: #174EA6;\n",
              "    }\n",
              "\n",
              "    [theme=dark] .colab-df-convert {\n",
              "      background-color: #3B4455;\n",
              "      fill: #D2E3FC;\n",
              "    }\n",
              "\n",
              "    [theme=dark] .colab-df-convert:hover {\n",
              "      background-color: #434B5C;\n",
              "      box-shadow: 0px 1px 3px 1px rgba(0, 0, 0, 0.15);\n",
              "      filter: drop-shadow(0px 1px 2px rgba(0, 0, 0, 0.3));\n",
              "      fill: #FFFFFF;\n",
              "    }\n",
              "  </style>\n",
              "\n",
              "      <script>\n",
              "        const buttonEl =\n",
              "          document.querySelector('#df-b24f20ea-05eb-4aa2-9fdb-2a7f0fb4d795 button.colab-df-convert');\n",
              "        buttonEl.style.display =\n",
              "          google.colab.kernel.accessAllowed ? 'block' : 'none';\n",
              "\n",
              "        async function convertToInteractive(key) {\n",
              "          const element = document.querySelector('#df-b24f20ea-05eb-4aa2-9fdb-2a7f0fb4d795');\n",
              "          const dataTable =\n",
              "            await google.colab.kernel.invokeFunction('convertToInteractive',\n",
              "                                                     [key], {});\n",
              "          if (!dataTable) return;\n",
              "\n",
              "          const docLinkHtml = 'Like what you see? Visit the ' +\n",
              "            '<a target=\"_blank\" href=https://colab.research.google.com/notebooks/data_table.ipynb>data table notebook</a>'\n",
              "            + ' to learn more about interactive tables.';\n",
              "          element.innerHTML = '';\n",
              "          dataTable['output_type'] = 'display_data';\n",
              "          await google.colab.output.renderOutput(dataTable, element);\n",
              "          const docLink = document.createElement('div');\n",
              "          docLink.innerHTML = docLinkHtml;\n",
              "          element.appendChild(docLink);\n",
              "        }\n",
              "      </script>\n",
              "    </div>\n",
              "  </div>\n",
              "  "
            ]
          },
          "metadata": {},
          "execution_count": 44
        }
      ]
    },
    {
      "cell_type": "code",
      "source": [
        "#determining the number of unique values in each column\n",
        "for x in gamma_df.columns:\n",
        "  print(x, len(gamma_df[x].unique()))"
      ],
      "metadata": {
        "colab": {
          "base_uri": "https://localhost:8080/"
        },
        "id": "LlONf6xgwNzQ",
        "outputId": "d292db14-bf38-47cb-aaf9-8848b5ee778b"
      },
      "id": "LlONf6xgwNzQ",
      "execution_count": 45,
      "outputs": [
        {
          "output_type": "stream",
          "name": "stdout",
          "text": [
            "amount 5308896\n",
            "oldbalanceOrig 1844245\n",
            "newbalanceOrig 2677400\n",
            "oldbalanceDest 3609168\n",
            "newbalanceDest 3549046\n",
            "isFraud 2\n"
          ]
        }
      ]
    },
    {
      "cell_type": "markdown",
      "source": [
        "Creating the labels set from the 'isFraud' column, and then create the features (x) dataframe from the remaining columns. "
      ],
      "metadata": {
        "id": "VNF-e0r3yiWr"
      },
      "id": "VNF-e0r3yiWr"
    },
    {
      "cell_type": "code",
      "source": [
        "# Separate the data into labels and features\n",
        "\n",
        "# Separate the y variable, the labels\n",
        "y = gamma_df['isFraud']\n",
        "\n",
        "# Separate the X variable, the features\n",
        "X = gamma_df.drop(columns = 'isFraud')"
      ],
      "metadata": {
        "id": "ika1h1L_y1nt"
      },
      "id": "ika1h1L_y1nt",
      "execution_count": 46,
      "outputs": []
    },
    {
      "cell_type": "code",
      "source": [
        "# Review the y variable Series\n",
        "display(y.head())\n",
        "display(y.tail())"
      ],
      "metadata": {
        "colab": {
          "base_uri": "https://localhost:8080/",
          "height": 225
        },
        "id": "AB_6cWz_z9Ha",
        "outputId": "1e6746f5-75b0-45bf-c534-65b43dfe66a8"
      },
      "id": "AB_6cWz_z9Ha",
      "execution_count": 47,
      "outputs": [
        {
          "output_type": "display_data",
          "data": {
            "text/plain": [
              "0    0\n",
              "1    0\n",
              "2    1\n",
              "3    1\n",
              "4    0\n",
              "Name: isFraud, dtype: int64"
            ]
          },
          "metadata": {}
        },
        {
          "output_type": "display_data",
          "data": {
            "text/plain": [
              "6351188    1\n",
              "6351189    1\n",
              "6351190    1\n",
              "6351191    1\n",
              "6351192    0\n",
              "Name: isFraud, dtype: int64"
            ]
          },
          "metadata": {}
        }
      ]
    },
    {
      "cell_type": "code",
      "source": [
        "# Review the X variable DataFrame\n",
        "display(X.head())\n",
        "display(X.tail())"
      ],
      "metadata": {
        "colab": {
          "base_uri": "https://localhost:8080/",
          "height": 395
        },
        "id": "fRPgje7s3uJV",
        "outputId": "b301127f-0234-42da-ac91-45225ab08fc0"
      },
      "id": "fRPgje7s3uJV",
      "execution_count": 48,
      "outputs": [
        {
          "output_type": "display_data",
          "data": {
            "text/plain": [
              "     amount  oldbalanceOrig  newbalanceOrig  oldbalanceDest  newbalanceDest\n",
              "0   9839.64        170136.0       160296.36             0.0             0.0\n",
              "1   1864.28         21249.0        19384.72             0.0             0.0\n",
              "2    181.00           181.0            0.00             0.0             0.0\n",
              "3    181.00           181.0            0.00         21182.0             0.0\n",
              "4  11668.14         41554.0        29885.86             0.0             0.0"
            ],
            "text/html": [
              "\n",
              "  <div id=\"df-a3712262-d8c4-485d-9e3e-76a5dbd9b1ad\">\n",
              "    <div class=\"colab-df-container\">\n",
              "      <div>\n",
              "<style scoped>\n",
              "    .dataframe tbody tr th:only-of-type {\n",
              "        vertical-align: middle;\n",
              "    }\n",
              "\n",
              "    .dataframe tbody tr th {\n",
              "        vertical-align: top;\n",
              "    }\n",
              "\n",
              "    .dataframe thead th {\n",
              "        text-align: right;\n",
              "    }\n",
              "</style>\n",
              "<table border=\"1\" class=\"dataframe\">\n",
              "  <thead>\n",
              "    <tr style=\"text-align: right;\">\n",
              "      <th></th>\n",
              "      <th>amount</th>\n",
              "      <th>oldbalanceOrig</th>\n",
              "      <th>newbalanceOrig</th>\n",
              "      <th>oldbalanceDest</th>\n",
              "      <th>newbalanceDest</th>\n",
              "    </tr>\n",
              "  </thead>\n",
              "  <tbody>\n",
              "    <tr>\n",
              "      <th>0</th>\n",
              "      <td>9839.64</td>\n",
              "      <td>170136.0</td>\n",
              "      <td>160296.36</td>\n",
              "      <td>0.0</td>\n",
              "      <td>0.0</td>\n",
              "    </tr>\n",
              "    <tr>\n",
              "      <th>1</th>\n",
              "      <td>1864.28</td>\n",
              "      <td>21249.0</td>\n",
              "      <td>19384.72</td>\n",
              "      <td>0.0</td>\n",
              "      <td>0.0</td>\n",
              "    </tr>\n",
              "    <tr>\n",
              "      <th>2</th>\n",
              "      <td>181.00</td>\n",
              "      <td>181.0</td>\n",
              "      <td>0.00</td>\n",
              "      <td>0.0</td>\n",
              "      <td>0.0</td>\n",
              "    </tr>\n",
              "    <tr>\n",
              "      <th>3</th>\n",
              "      <td>181.00</td>\n",
              "      <td>181.0</td>\n",
              "      <td>0.00</td>\n",
              "      <td>21182.0</td>\n",
              "      <td>0.0</td>\n",
              "    </tr>\n",
              "    <tr>\n",
              "      <th>4</th>\n",
              "      <td>11668.14</td>\n",
              "      <td>41554.0</td>\n",
              "      <td>29885.86</td>\n",
              "      <td>0.0</td>\n",
              "      <td>0.0</td>\n",
              "    </tr>\n",
              "  </tbody>\n",
              "</table>\n",
              "</div>\n",
              "      <button class=\"colab-df-convert\" onclick=\"convertToInteractive('df-a3712262-d8c4-485d-9e3e-76a5dbd9b1ad')\"\n",
              "              title=\"Convert this dataframe to an interactive table.\"\n",
              "              style=\"display:none;\">\n",
              "        \n",
              "  <svg xmlns=\"http://www.w3.org/2000/svg\" height=\"24px\"viewBox=\"0 0 24 24\"\n",
              "       width=\"24px\">\n",
              "    <path d=\"M0 0h24v24H0V0z\" fill=\"none\"/>\n",
              "    <path d=\"M18.56 5.44l.94 2.06.94-2.06 2.06-.94-2.06-.94-.94-2.06-.94 2.06-2.06.94zm-11 1L8.5 8.5l.94-2.06 2.06-.94-2.06-.94L8.5 2.5l-.94 2.06-2.06.94zm10 10l.94 2.06.94-2.06 2.06-.94-2.06-.94-.94-2.06-.94 2.06-2.06.94z\"/><path d=\"M17.41 7.96l-1.37-1.37c-.4-.4-.92-.59-1.43-.59-.52 0-1.04.2-1.43.59L10.3 9.45l-7.72 7.72c-.78.78-.78 2.05 0 2.83L4 21.41c.39.39.9.59 1.41.59.51 0 1.02-.2 1.41-.59l7.78-7.78 2.81-2.81c.8-.78.8-2.07 0-2.86zM5.41 20L4 18.59l7.72-7.72 1.47 1.35L5.41 20z\"/>\n",
              "  </svg>\n",
              "      </button>\n",
              "      \n",
              "  <style>\n",
              "    .colab-df-container {\n",
              "      display:flex;\n",
              "      flex-wrap:wrap;\n",
              "      gap: 12px;\n",
              "    }\n",
              "\n",
              "    .colab-df-convert {\n",
              "      background-color: #E8F0FE;\n",
              "      border: none;\n",
              "      border-radius: 50%;\n",
              "      cursor: pointer;\n",
              "      display: none;\n",
              "      fill: #1967D2;\n",
              "      height: 32px;\n",
              "      padding: 0 0 0 0;\n",
              "      width: 32px;\n",
              "    }\n",
              "\n",
              "    .colab-df-convert:hover {\n",
              "      background-color: #E2EBFA;\n",
              "      box-shadow: 0px 1px 2px rgba(60, 64, 67, 0.3), 0px 1px 3px 1px rgba(60, 64, 67, 0.15);\n",
              "      fill: #174EA6;\n",
              "    }\n",
              "\n",
              "    [theme=dark] .colab-df-convert {\n",
              "      background-color: #3B4455;\n",
              "      fill: #D2E3FC;\n",
              "    }\n",
              "\n",
              "    [theme=dark] .colab-df-convert:hover {\n",
              "      background-color: #434B5C;\n",
              "      box-shadow: 0px 1px 3px 1px rgba(0, 0, 0, 0.15);\n",
              "      filter: drop-shadow(0px 1px 2px rgba(0, 0, 0, 0.3));\n",
              "      fill: #FFFFFF;\n",
              "    }\n",
              "  </style>\n",
              "\n",
              "      <script>\n",
              "        const buttonEl =\n",
              "          document.querySelector('#df-a3712262-d8c4-485d-9e3e-76a5dbd9b1ad button.colab-df-convert');\n",
              "        buttonEl.style.display =\n",
              "          google.colab.kernel.accessAllowed ? 'block' : 'none';\n",
              "\n",
              "        async function convertToInteractive(key) {\n",
              "          const element = document.querySelector('#df-a3712262-d8c4-485d-9e3e-76a5dbd9b1ad');\n",
              "          const dataTable =\n",
              "            await google.colab.kernel.invokeFunction('convertToInteractive',\n",
              "                                                     [key], {});\n",
              "          if (!dataTable) return;\n",
              "\n",
              "          const docLinkHtml = 'Like what you see? Visit the ' +\n",
              "            '<a target=\"_blank\" href=https://colab.research.google.com/notebooks/data_table.ipynb>data table notebook</a>'\n",
              "            + ' to learn more about interactive tables.';\n",
              "          element.innerHTML = '';\n",
              "          dataTable['output_type'] = 'display_data';\n",
              "          await google.colab.output.renderOutput(dataTable, element);\n",
              "          const docLink = document.createElement('div');\n",
              "          docLink.innerHTML = docLinkHtml;\n",
              "          element.appendChild(docLink);\n",
              "        }\n",
              "      </script>\n",
              "    </div>\n",
              "  </div>\n",
              "  "
            ]
          },
          "metadata": {}
        },
        {
          "output_type": "display_data",
          "data": {
            "text/plain": [
              "             amount  oldbalanceOrig  newbalanceOrig  oldbalanceDest  \\\n",
              "6351188   162326.52       162326.52            0.00            0.00   \n",
              "6351189   162326.52       162326.52            0.00            0.00   \n",
              "6351190  2763398.31      2763398.31            0.00            0.00   \n",
              "6351191  2763398.31      2763398.31            0.00       339515.35   \n",
              "6351192      578.21        10575.00         9996.79       127072.23   \n",
              "\n",
              "         newbalanceDest  \n",
              "6351188            0.00  \n",
              "6351189       162326.52  \n",
              "6351190            0.00  \n",
              "6351191      3102913.66  \n",
              "6351192       127650.44  "
            ],
            "text/html": [
              "\n",
              "  <div id=\"df-eb39a992-ff69-41f0-83fb-66bd62da91f3\">\n",
              "    <div class=\"colab-df-container\">\n",
              "      <div>\n",
              "<style scoped>\n",
              "    .dataframe tbody tr th:only-of-type {\n",
              "        vertical-align: middle;\n",
              "    }\n",
              "\n",
              "    .dataframe tbody tr th {\n",
              "        vertical-align: top;\n",
              "    }\n",
              "\n",
              "    .dataframe thead th {\n",
              "        text-align: right;\n",
              "    }\n",
              "</style>\n",
              "<table border=\"1\" class=\"dataframe\">\n",
              "  <thead>\n",
              "    <tr style=\"text-align: right;\">\n",
              "      <th></th>\n",
              "      <th>amount</th>\n",
              "      <th>oldbalanceOrig</th>\n",
              "      <th>newbalanceOrig</th>\n",
              "      <th>oldbalanceDest</th>\n",
              "      <th>newbalanceDest</th>\n",
              "    </tr>\n",
              "  </thead>\n",
              "  <tbody>\n",
              "    <tr>\n",
              "      <th>6351188</th>\n",
              "      <td>162326.52</td>\n",
              "      <td>162326.52</td>\n",
              "      <td>0.00</td>\n",
              "      <td>0.00</td>\n",
              "      <td>0.00</td>\n",
              "    </tr>\n",
              "    <tr>\n",
              "      <th>6351189</th>\n",
              "      <td>162326.52</td>\n",
              "      <td>162326.52</td>\n",
              "      <td>0.00</td>\n",
              "      <td>0.00</td>\n",
              "      <td>162326.52</td>\n",
              "    </tr>\n",
              "    <tr>\n",
              "      <th>6351190</th>\n",
              "      <td>2763398.31</td>\n",
              "      <td>2763398.31</td>\n",
              "      <td>0.00</td>\n",
              "      <td>0.00</td>\n",
              "      <td>0.00</td>\n",
              "    </tr>\n",
              "    <tr>\n",
              "      <th>6351191</th>\n",
              "      <td>2763398.31</td>\n",
              "      <td>2763398.31</td>\n",
              "      <td>0.00</td>\n",
              "      <td>339515.35</td>\n",
              "      <td>3102913.66</td>\n",
              "    </tr>\n",
              "    <tr>\n",
              "      <th>6351192</th>\n",
              "      <td>578.21</td>\n",
              "      <td>10575.00</td>\n",
              "      <td>9996.79</td>\n",
              "      <td>127072.23</td>\n",
              "      <td>127650.44</td>\n",
              "    </tr>\n",
              "  </tbody>\n",
              "</table>\n",
              "</div>\n",
              "      <button class=\"colab-df-convert\" onclick=\"convertToInteractive('df-eb39a992-ff69-41f0-83fb-66bd62da91f3')\"\n",
              "              title=\"Convert this dataframe to an interactive table.\"\n",
              "              style=\"display:none;\">\n",
              "        \n",
              "  <svg xmlns=\"http://www.w3.org/2000/svg\" height=\"24px\"viewBox=\"0 0 24 24\"\n",
              "       width=\"24px\">\n",
              "    <path d=\"M0 0h24v24H0V0z\" fill=\"none\"/>\n",
              "    <path d=\"M18.56 5.44l.94 2.06.94-2.06 2.06-.94-2.06-.94-.94-2.06-.94 2.06-2.06.94zm-11 1L8.5 8.5l.94-2.06 2.06-.94-2.06-.94L8.5 2.5l-.94 2.06-2.06.94zm10 10l.94 2.06.94-2.06 2.06-.94-2.06-.94-.94-2.06-.94 2.06-2.06.94z\"/><path d=\"M17.41 7.96l-1.37-1.37c-.4-.4-.92-.59-1.43-.59-.52 0-1.04.2-1.43.59L10.3 9.45l-7.72 7.72c-.78.78-.78 2.05 0 2.83L4 21.41c.39.39.9.59 1.41.59.51 0 1.02-.2 1.41-.59l7.78-7.78 2.81-2.81c.8-.78.8-2.07 0-2.86zM5.41 20L4 18.59l7.72-7.72 1.47 1.35L5.41 20z\"/>\n",
              "  </svg>\n",
              "      </button>\n",
              "      \n",
              "  <style>\n",
              "    .colab-df-container {\n",
              "      display:flex;\n",
              "      flex-wrap:wrap;\n",
              "      gap: 12px;\n",
              "    }\n",
              "\n",
              "    .colab-df-convert {\n",
              "      background-color: #E8F0FE;\n",
              "      border: none;\n",
              "      border-radius: 50%;\n",
              "      cursor: pointer;\n",
              "      display: none;\n",
              "      fill: #1967D2;\n",
              "      height: 32px;\n",
              "      padding: 0 0 0 0;\n",
              "      width: 32px;\n",
              "    }\n",
              "\n",
              "    .colab-df-convert:hover {\n",
              "      background-color: #E2EBFA;\n",
              "      box-shadow: 0px 1px 2px rgba(60, 64, 67, 0.3), 0px 1px 3px 1px rgba(60, 64, 67, 0.15);\n",
              "      fill: #174EA6;\n",
              "    }\n",
              "\n",
              "    [theme=dark] .colab-df-convert {\n",
              "      background-color: #3B4455;\n",
              "      fill: #D2E3FC;\n",
              "    }\n",
              "\n",
              "    [theme=dark] .colab-df-convert:hover {\n",
              "      background-color: #434B5C;\n",
              "      box-shadow: 0px 1px 3px 1px rgba(0, 0, 0, 0.15);\n",
              "      filter: drop-shadow(0px 1px 2px rgba(0, 0, 0, 0.3));\n",
              "      fill: #FFFFFF;\n",
              "    }\n",
              "  </style>\n",
              "\n",
              "      <script>\n",
              "        const buttonEl =\n",
              "          document.querySelector('#df-eb39a992-ff69-41f0-83fb-66bd62da91f3 button.colab-df-convert');\n",
              "        buttonEl.style.display =\n",
              "          google.colab.kernel.accessAllowed ? 'block' : 'none';\n",
              "\n",
              "        async function convertToInteractive(key) {\n",
              "          const element = document.querySelector('#df-eb39a992-ff69-41f0-83fb-66bd62da91f3');\n",
              "          const dataTable =\n",
              "            await google.colab.kernel.invokeFunction('convertToInteractive',\n",
              "                                                     [key], {});\n",
              "          if (!dataTable) return;\n",
              "\n",
              "          const docLinkHtml = 'Like what you see? Visit the ' +\n",
              "            '<a target=\"_blank\" href=https://colab.research.google.com/notebooks/data_table.ipynb>data table notebook</a>'\n",
              "            + ' to learn more about interactive tables.';\n",
              "          element.innerHTML = '';\n",
              "          dataTable['output_type'] = 'display_data';\n",
              "          await google.colab.output.renderOutput(dataTable, element);\n",
              "          const docLink = document.createElement('div');\n",
              "          docLink.innerHTML = docLinkHtml;\n",
              "          element.appendChild(docLink);\n",
              "        }\n",
              "      </script>\n",
              "    </div>\n",
              "  </div>\n",
              "  "
            ]
          },
          "metadata": {}
        }
      ]
    },
    {
      "cell_type": "markdown",
      "source": [
        "### Step 3: Check the balance of the labels variable (`y`) by using the `value_counts` function."
      ],
      "metadata": {
        "id": "E6dgcJ5339qU"
      },
      "id": "E6dgcJ5339qU"
    },
    {
      "cell_type": "code",
      "source": [
        "# Check the balance of our target values\n",
        "y.value_counts()"
      ],
      "metadata": {
        "colab": {
          "base_uri": "https://localhost:8080/"
        },
        "id": "Bgwgj9Mv4D7U",
        "outputId": "c68e8531-d2aa-457a-d2a9-3d5560cf1459"
      },
      "id": "Bgwgj9Mv4D7U",
      "execution_count": 49,
      "outputs": [
        {
          "output_type": "execute_result",
          "data": {
            "text/plain": [
              "0    6343476\n",
              "1       7717\n",
              "Name: isFraud, dtype: int64"
            ]
          },
          "metadata": {},
          "execution_count": 49
        }
      ]
    },
    {
      "cell_type": "markdown",
      "source": [
        "### Step 4: Split the data into training and testing datasets by using `train_test_split`."
      ],
      "metadata": {
        "id": "gpzx6OrV4QT1"
      },
      "id": "gpzx6OrV4QT1"
    },
    {
      "cell_type": "code",
      "source": [
        "# Import the train_test_learn module\n",
        "from sklearn.model_selection import train_test_split\n",
        "\n",
        "# Split the data using train_test_split\n",
        "# Assign a random_state of 1 to the function\n",
        "X_train, X_test, y_train, y_test = train_test_split(\n",
        "    X, \n",
        "    y, \n",
        "    random_state = 1\n",
        ")"
      ],
      "metadata": {
        "id": "7-HE1AJs4Lp-"
      },
      "id": "7-HE1AJs4Lp-",
      "execution_count": 50,
      "outputs": []
    },
    {
      "cell_type": "markdown",
      "source": [
        "---"
      ],
      "metadata": {
        "id": "_4Pb1qNL4gZW"
      },
      "id": "_4Pb1qNL4gZW"
    },
    {
      "cell_type": "markdown",
      "source": [
        "## Create a Logistic Regression Model with the Original Data"
      ],
      "metadata": {
        "id": "ZHmEEbCM4j-E"
      },
      "id": "ZHmEEbCM4j-E"
    },
    {
      "cell_type": "markdown",
      "source": [
        "###  Step 1: Fit a logistic regression model by using the training data (`X_train` and `y_train`)."
      ],
      "metadata": {
        "id": "_RCdThLv4trG"
      },
      "id": "_RCdThLv4trG"
    },
    {
      "cell_type": "code",
      "source": [
        "# Import the LogisticRegression module from SKLearn\n",
        "from sklearn.linear_model import LogisticRegression\n",
        "\n"
      ],
      "metadata": {
        "id": "ROCld4Lv41is"
      },
      "id": "ROCld4Lv41is",
      "execution_count": 51,
      "outputs": []
    },
    {
      "cell_type": "code",
      "source": [
        "# Instantiate the Logistic Regression model\n",
        "# Assign a random_state parameter of 1 to the model\n",
        "LR_model = LogisticRegression(random_state = 1)\n",
        "\n"
      ],
      "metadata": {
        "id": "s5oJ6vy55ec-"
      },
      "id": "s5oJ6vy55ec-",
      "execution_count": 52,
      "outputs": []
    },
    {
      "cell_type": "code",
      "source": [
        "# Fit the model using training data\n",
        "LR_model.fit(X_train, y_train)"
      ],
      "metadata": {
        "colab": {
          "base_uri": "https://localhost:8080/",
          "height": 75
        },
        "id": "oliL9JKP5jut",
        "outputId": "a22851b8-3548-4f9c-f1c5-98f21cffd731"
      },
      "id": "oliL9JKP5jut",
      "execution_count": 53,
      "outputs": [
        {
          "output_type": "execute_result",
          "data": {
            "text/plain": [
              "LogisticRegression(random_state=1)"
            ],
            "text/html": [
              "<style>#sk-container-id-2 {color: black;background-color: white;}#sk-container-id-2 pre{padding: 0;}#sk-container-id-2 div.sk-toggleable {background-color: white;}#sk-container-id-2 label.sk-toggleable__label {cursor: pointer;display: block;width: 100%;margin-bottom: 0;padding: 0.3em;box-sizing: border-box;text-align: center;}#sk-container-id-2 label.sk-toggleable__label-arrow:before {content: \"▸\";float: left;margin-right: 0.25em;color: #696969;}#sk-container-id-2 label.sk-toggleable__label-arrow:hover:before {color: black;}#sk-container-id-2 div.sk-estimator:hover label.sk-toggleable__label-arrow:before {color: black;}#sk-container-id-2 div.sk-toggleable__content {max-height: 0;max-width: 0;overflow: hidden;text-align: left;background-color: #f0f8ff;}#sk-container-id-2 div.sk-toggleable__content pre {margin: 0.2em;color: black;border-radius: 0.25em;background-color: #f0f8ff;}#sk-container-id-2 input.sk-toggleable__control:checked~div.sk-toggleable__content {max-height: 200px;max-width: 100%;overflow: auto;}#sk-container-id-2 input.sk-toggleable__control:checked~label.sk-toggleable__label-arrow:before {content: \"▾\";}#sk-container-id-2 div.sk-estimator input.sk-toggleable__control:checked~label.sk-toggleable__label {background-color: #d4ebff;}#sk-container-id-2 div.sk-label input.sk-toggleable__control:checked~label.sk-toggleable__label {background-color: #d4ebff;}#sk-container-id-2 input.sk-hidden--visually {border: 0;clip: rect(1px 1px 1px 1px);clip: rect(1px, 1px, 1px, 1px);height: 1px;margin: -1px;overflow: hidden;padding: 0;position: absolute;width: 1px;}#sk-container-id-2 div.sk-estimator {font-family: monospace;background-color: #f0f8ff;border: 1px dotted black;border-radius: 0.25em;box-sizing: border-box;margin-bottom: 0.5em;}#sk-container-id-2 div.sk-estimator:hover {background-color: #d4ebff;}#sk-container-id-2 div.sk-parallel-item::after {content: \"\";width: 100%;border-bottom: 1px solid gray;flex-grow: 1;}#sk-container-id-2 div.sk-label:hover label.sk-toggleable__label {background-color: #d4ebff;}#sk-container-id-2 div.sk-serial::before {content: \"\";position: absolute;border-left: 1px solid gray;box-sizing: border-box;top: 0;bottom: 0;left: 50%;z-index: 0;}#sk-container-id-2 div.sk-serial {display: flex;flex-direction: column;align-items: center;background-color: white;padding-right: 0.2em;padding-left: 0.2em;position: relative;}#sk-container-id-2 div.sk-item {position: relative;z-index: 1;}#sk-container-id-2 div.sk-parallel {display: flex;align-items: stretch;justify-content: center;background-color: white;position: relative;}#sk-container-id-2 div.sk-item::before, #sk-container-id-2 div.sk-parallel-item::before {content: \"\";position: absolute;border-left: 1px solid gray;box-sizing: border-box;top: 0;bottom: 0;left: 50%;z-index: -1;}#sk-container-id-2 div.sk-parallel-item {display: flex;flex-direction: column;z-index: 1;position: relative;background-color: white;}#sk-container-id-2 div.sk-parallel-item:first-child::after {align-self: flex-end;width: 50%;}#sk-container-id-2 div.sk-parallel-item:last-child::after {align-self: flex-start;width: 50%;}#sk-container-id-2 div.sk-parallel-item:only-child::after {width: 0;}#sk-container-id-2 div.sk-dashed-wrapped {border: 1px dashed gray;margin: 0 0.4em 0.5em 0.4em;box-sizing: border-box;padding-bottom: 0.4em;background-color: white;}#sk-container-id-2 div.sk-label label {font-family: monospace;font-weight: bold;display: inline-block;line-height: 1.2em;}#sk-container-id-2 div.sk-label-container {text-align: center;}#sk-container-id-2 div.sk-container {/* jupyter's `normalize.less` sets `[hidden] { display: none; }` but bootstrap.min.css set `[hidden] { display: none !important; }` so we also need the `!important` here to be able to override the default hidden behavior on the sphinx rendered scikit-learn.org. See: https://github.com/scikit-learn/scikit-learn/issues/21755 */display: inline-block !important;position: relative;}#sk-container-id-2 div.sk-text-repr-fallback {display: none;}</style><div id=\"sk-container-id-2\" class=\"sk-top-container\"><div class=\"sk-text-repr-fallback\"><pre>LogisticRegression(random_state=1)</pre><b>In a Jupyter environment, please rerun this cell to show the HTML representation or trust the notebook. <br />On GitHub, the HTML representation is unable to render, please try loading this page with nbviewer.org.</b></div><div class=\"sk-container\" hidden><div class=\"sk-item\"><div class=\"sk-estimator sk-toggleable\"><input class=\"sk-toggleable__control sk-hidden--visually\" id=\"sk-estimator-id-2\" type=\"checkbox\" checked><label for=\"sk-estimator-id-2\" class=\"sk-toggleable__label sk-toggleable__label-arrow\">LogisticRegression</label><div class=\"sk-toggleable__content\"><pre>LogisticRegression(random_state=1)</pre></div></div></div></div></div>"
            ]
          },
          "metadata": {},
          "execution_count": 53
        }
      ]
    },
    {
      "cell_type": "markdown",
      "source": [
        "### Step 2: Save the predictions on the testing data labels by using the testing feature data (`X_test`) and the fitted model."
      ],
      "metadata": {
        "id": "QS-R5zTeE1uo"
      },
      "id": "QS-R5zTeE1uo"
    },
    {
      "cell_type": "code",
      "source": [
        "# Make a prediction using the testing data\n",
        "LR_predictions = LR_model.predict(X_test)"
      ],
      "metadata": {
        "id": "uf7CroCrE5M-"
      },
      "id": "uf7CroCrE5M-",
      "execution_count": 54,
      "outputs": []
    },
    {
      "cell_type": "markdown",
      "source": [
        "### Step 3: Evaluate the model’s performance by doing the following:\n",
        "\n",
        "* Calculate the accuracy score of the model.\n",
        "\n",
        "* Generate a confusion matrix.\n",
        "\n",
        "* Print the classification report."
      ],
      "metadata": {
        "id": "Dwcay3RdFAav"
      },
      "id": "Dwcay3RdFAav"
    },
    {
      "cell_type": "code",
      "source": [
        "# Print the balanced_accuracy score of the model\n",
        "balanced_accuracy_score(y_test, LR_predictions)"
      ],
      "metadata": {
        "colab": {
          "base_uri": "https://localhost:8080/"
        },
        "id": "eZCo9mHJFJMY",
        "outputId": "fc410a67-7c35-4c53-e42e-3c45eb39336c"
      },
      "id": "eZCo9mHJFJMY",
      "execution_count": 55,
      "outputs": [
        {
          "output_type": "execute_result",
          "data": {
            "text/plain": [
              "0.8904248433622179"
            ]
          },
          "metadata": {},
          "execution_count": 55
        }
      ]
    },
    {
      "cell_type": "code",
      "source": [
        "# Generate a confusion matrix for the model\n",
        "\n",
        "#\"WORK ON THIS ONE CELL!!!!!\"\n",
        "delta = confusion_matrix(y_test, LR_predictions)\n",
        "delta_df = pd.DataFrame(delta, \n",
        "                                index = ['Actual Healthy Loans (low-risk)', \n",
        "                                'Actual Non-Healthy Loans (high-risk)'], \n",
        "                                columns = ['Predicted Healthy Loans (low-risk)', 'Predicted Non-Healthy Loans (high-risk)']\n",
        "                              )\n",
        "delta_df"
      ],
      "metadata": {
        "colab": {
          "base_uri": "https://localhost:8080/",
          "height": 112
        },
        "id": "FRfjaQQlF9Mj",
        "outputId": "c26281de-fb79-4fce-d279-f8ff03d269b7"
      },
      "id": "FRfjaQQlF9Mj",
      "execution_count": 56,
      "outputs": [
        {
          "output_type": "execute_result",
          "data": {
            "text/plain": [
              "                                      Predicted Healthy Loans (low-risk)  \\\n",
              "Actual Healthy Loans (low-risk)                                  1583154   \n",
              "Actual Non-Healthy Loans (high-risk)                                 419   \n",
              "\n",
              "                                      Predicted Non-Healthy Loans (high-risk)  \n",
              "Actual Healthy Loans (low-risk)                                          2718  \n",
              "Actual Non-Healthy Loans (high-risk)                                     1508  "
            ],
            "text/html": [
              "\n",
              "  <div id=\"df-7eb8538f-32d4-4abd-813d-0f300b89f3e3\">\n",
              "    <div class=\"colab-df-container\">\n",
              "      <div>\n",
              "<style scoped>\n",
              "    .dataframe tbody tr th:only-of-type {\n",
              "        vertical-align: middle;\n",
              "    }\n",
              "\n",
              "    .dataframe tbody tr th {\n",
              "        vertical-align: top;\n",
              "    }\n",
              "\n",
              "    .dataframe thead th {\n",
              "        text-align: right;\n",
              "    }\n",
              "</style>\n",
              "<table border=\"1\" class=\"dataframe\">\n",
              "  <thead>\n",
              "    <tr style=\"text-align: right;\">\n",
              "      <th></th>\n",
              "      <th>Predicted Healthy Loans (low-risk)</th>\n",
              "      <th>Predicted Non-Healthy Loans (high-risk)</th>\n",
              "    </tr>\n",
              "  </thead>\n",
              "  <tbody>\n",
              "    <tr>\n",
              "      <th>Actual Healthy Loans (low-risk)</th>\n",
              "      <td>1583154</td>\n",
              "      <td>2718</td>\n",
              "    </tr>\n",
              "    <tr>\n",
              "      <th>Actual Non-Healthy Loans (high-risk)</th>\n",
              "      <td>419</td>\n",
              "      <td>1508</td>\n",
              "    </tr>\n",
              "  </tbody>\n",
              "</table>\n",
              "</div>\n",
              "      <button class=\"colab-df-convert\" onclick=\"convertToInteractive('df-7eb8538f-32d4-4abd-813d-0f300b89f3e3')\"\n",
              "              title=\"Convert this dataframe to an interactive table.\"\n",
              "              style=\"display:none;\">\n",
              "        \n",
              "  <svg xmlns=\"http://www.w3.org/2000/svg\" height=\"24px\"viewBox=\"0 0 24 24\"\n",
              "       width=\"24px\">\n",
              "    <path d=\"M0 0h24v24H0V0z\" fill=\"none\"/>\n",
              "    <path d=\"M18.56 5.44l.94 2.06.94-2.06 2.06-.94-2.06-.94-.94-2.06-.94 2.06-2.06.94zm-11 1L8.5 8.5l.94-2.06 2.06-.94-2.06-.94L8.5 2.5l-.94 2.06-2.06.94zm10 10l.94 2.06.94-2.06 2.06-.94-2.06-.94-.94-2.06-.94 2.06-2.06.94z\"/><path d=\"M17.41 7.96l-1.37-1.37c-.4-.4-.92-.59-1.43-.59-.52 0-1.04.2-1.43.59L10.3 9.45l-7.72 7.72c-.78.78-.78 2.05 0 2.83L4 21.41c.39.39.9.59 1.41.59.51 0 1.02-.2 1.41-.59l7.78-7.78 2.81-2.81c.8-.78.8-2.07 0-2.86zM5.41 20L4 18.59l7.72-7.72 1.47 1.35L5.41 20z\"/>\n",
              "  </svg>\n",
              "      </button>\n",
              "      \n",
              "  <style>\n",
              "    .colab-df-container {\n",
              "      display:flex;\n",
              "      flex-wrap:wrap;\n",
              "      gap: 12px;\n",
              "    }\n",
              "\n",
              "    .colab-df-convert {\n",
              "      background-color: #E8F0FE;\n",
              "      border: none;\n",
              "      border-radius: 50%;\n",
              "      cursor: pointer;\n",
              "      display: none;\n",
              "      fill: #1967D2;\n",
              "      height: 32px;\n",
              "      padding: 0 0 0 0;\n",
              "      width: 32px;\n",
              "    }\n",
              "\n",
              "    .colab-df-convert:hover {\n",
              "      background-color: #E2EBFA;\n",
              "      box-shadow: 0px 1px 2px rgba(60, 64, 67, 0.3), 0px 1px 3px 1px rgba(60, 64, 67, 0.15);\n",
              "      fill: #174EA6;\n",
              "    }\n",
              "\n",
              "    [theme=dark] .colab-df-convert {\n",
              "      background-color: #3B4455;\n",
              "      fill: #D2E3FC;\n",
              "    }\n",
              "\n",
              "    [theme=dark] .colab-df-convert:hover {\n",
              "      background-color: #434B5C;\n",
              "      box-shadow: 0px 1px 3px 1px rgba(0, 0, 0, 0.15);\n",
              "      filter: drop-shadow(0px 1px 2px rgba(0, 0, 0, 0.3));\n",
              "      fill: #FFFFFF;\n",
              "    }\n",
              "  </style>\n",
              "\n",
              "      <script>\n",
              "        const buttonEl =\n",
              "          document.querySelector('#df-7eb8538f-32d4-4abd-813d-0f300b89f3e3 button.colab-df-convert');\n",
              "        buttonEl.style.display =\n",
              "          google.colab.kernel.accessAllowed ? 'block' : 'none';\n",
              "\n",
              "        async function convertToInteractive(key) {\n",
              "          const element = document.querySelector('#df-7eb8538f-32d4-4abd-813d-0f300b89f3e3');\n",
              "          const dataTable =\n",
              "            await google.colab.kernel.invokeFunction('convertToInteractive',\n",
              "                                                     [key], {});\n",
              "          if (!dataTable) return;\n",
              "\n",
              "          const docLinkHtml = 'Like what you see? Visit the ' +\n",
              "            '<a target=\"_blank\" href=https://colab.research.google.com/notebooks/data_table.ipynb>data table notebook</a>'\n",
              "            + ' to learn more about interactive tables.';\n",
              "          element.innerHTML = '';\n",
              "          dataTable['output_type'] = 'display_data';\n",
              "          await google.colab.output.renderOutput(dataTable, element);\n",
              "          const docLink = document.createElement('div');\n",
              "          docLink.innerHTML = docLinkHtml;\n",
              "          element.appendChild(docLink);\n",
              "        }\n",
              "      </script>\n",
              "    </div>\n",
              "  </div>\n",
              "  "
            ]
          },
          "metadata": {},
          "execution_count": 56
        }
      ]
    },
    {
      "cell_type": "code",
      "source": [
        "# Print the classification report for the model\n",
        "\n",
        "#report_dict = classification_report(y_test, LR_predictions, output_dict=True)\n",
        "#pd.DataFrame(report_dict)\n",
        "print(classification_report(y_test, LR_predictions))"
      ],
      "metadata": {
        "colab": {
          "base_uri": "https://localhost:8080/"
        },
        "id": "aZY0lsG5Gpod",
        "outputId": "da9b7f69-093b-4483-9f8e-a64ae0667c58"
      },
      "id": "aZY0lsG5Gpod",
      "execution_count": 57,
      "outputs": [
        {
          "output_type": "stream",
          "name": "stdout",
          "text": [
            "              precision    recall  f1-score   support\n",
            "\n",
            "           0       1.00      1.00      1.00   1585872\n",
            "           1       0.36      0.78      0.49      1927\n",
            "\n",
            "    accuracy                           1.00   1587799\n",
            "   macro avg       0.68      0.89      0.74   1587799\n",
            "weighted avg       1.00      1.00      1.00   1587799\n",
            "\n"
          ]
        }
      ]
    },
    {
      "cell_type": "markdown",
      "source": [
        "---\n",
        "\n",
        "\n"
      ],
      "metadata": {
        "id": "UqkAzkN-HHRO"
      },
      "id": "UqkAzkN-HHRO"
    },
    {
      "cell_type": "markdown",
      "source": [
        "## Predict a Logistic Regression Model with Resampled Training Data"
      ],
      "metadata": {
        "id": "QA_eLlsWHgir"
      },
      "id": "QA_eLlsWHgir"
    },
    {
      "cell_type": "markdown",
      "source": [
        "### Step 1: Use the `RandomOverSampler` module from the imbalanced-learn library to resample the data. Be sure to confirm that the labels have an equal number of data points. "
      ],
      "metadata": {
        "id": "eHuGr002HoGQ"
      },
      "id": "eHuGr002HoGQ"
    },
    {
      "cell_type": "code",
      "source": [
        "# Import the RandomOverSampler module form imbalanced-learn\n",
        "from imblearn.over_sampling import RandomOverSampler\n",
        "\n",
        "# Instantiate the random oversampler model\n",
        "# # Assign a random_state parameter of 1 to the model\n",
        "ROS_model = RandomOverSampler(random_state = 1)\n",
        "\n",
        "# Fit the original training data to the random_oversampler model\n",
        "X_oversampled, y_oversampled = ROS_model.fit_resample(X_train, y_train)"
      ],
      "metadata": {
        "id": "lzNIJajvHfao"
      },
      "id": "lzNIJajvHfao",
      "execution_count": 58,
      "outputs": []
    },
    {
      "cell_type": "code",
      "source": [
        "# Count the distinct values of the resampled labels data\n",
        "y_oversampled.value_counts()"
      ],
      "metadata": {
        "colab": {
          "base_uri": "https://localhost:8080/"
        },
        "id": "TMwt2MZiHz5R",
        "outputId": "091a7991-9dbd-4df6-c0f5-d69950ebf6a8"
      },
      "id": "TMwt2MZiHz5R",
      "execution_count": 59,
      "outputs": [
        {
          "output_type": "execute_result",
          "data": {
            "text/plain": [
              "0    4757604\n",
              "1    4757604\n",
              "Name: isFraud, dtype: int64"
            ]
          },
          "metadata": {},
          "execution_count": 59
        }
      ]
    },
    {
      "cell_type": "markdown",
      "source": [
        "### Step 2: Use the `LogisticRegression` classifier and the resampled data to fit the model and make predictions."
      ],
      "metadata": {
        "id": "vHUhRKEZH5y5"
      },
      "id": "vHUhRKEZH5y5"
    },
    {
      "cell_type": "code",
      "source": [
        "# Instantiate the Logistic Regression model\n",
        "# Assign a random_state parameter of 1 to the model\n",
        "LR_oversampled_model = LogisticRegression(random_state = 1)\n",
        "\n",
        "# Fit the model using the resampled training data\n",
        "LR_oversampled_model.fit(X_oversampled, y_oversampled)\n",
        "\n",
        "# Make a prediction using the testing data\n",
        "LR_oversampled_pred = LR_oversampled_model.predict(X_test)"
      ],
      "metadata": {
        "id": "gAQfnE65H9dq"
      },
      "id": "gAQfnE65H9dq",
      "execution_count": 60,
      "outputs": []
    },
    {
      "cell_type": "markdown",
      "source": [
        "### Step 3: Evaluate the model’s performance by doing the following:\n",
        "\n",
        "* Calculate the accuracy score of the model.\n",
        "\n",
        "* Generate a confusion matrix.\n",
        "\n",
        "* Print the classification report."
      ],
      "metadata": {
        "id": "01dYi2LtILPa"
      },
      "id": "01dYi2LtILPa"
    },
    {
      "cell_type": "code",
      "source": [
        "# Print the balanced_accuracy score of the model \n",
        "balanced_accuracy_score(y_test, LR_oversampled_pred)"
      ],
      "metadata": {
        "colab": {
          "base_uri": "https://localhost:8080/"
        },
        "id": "Pd3kk8TkIPgz",
        "outputId": "d8e65b32-44ee-449f-e48c-e260311202e8"
      },
      "id": "Pd3kk8TkIPgz",
      "execution_count": 61,
      "outputs": [
        {
          "output_type": "execute_result",
          "data": {
            "text/plain": [
              "0.8426175294757221"
            ]
          },
          "metadata": {},
          "execution_count": 61
        }
      ]
    },
    {
      "cell_type": "code",
      "source": [
        "# Generate a confusion matrix for the model\n",
        "\n",
        "\n",
        "epsilon = confusion_matrix(y_test, LR_oversampled_pred)\n",
        "epsilon_df = pd.DataFrame(epsilon, \n",
        "                                index = ['Actual Healthy Loans (low-risk)', \n",
        "                                'Actual Non-Healthy Loans (high-risk)'], \n",
        "                                columns = ['Predicted Healthy Loans (low-risk)', 'Predicted Non-Healthy Loans (high-risk)']\n",
        "                              )\n",
        "epsilon_df"
      ],
      "metadata": {
        "colab": {
          "base_uri": "https://localhost:8080/",
          "height": 112
        },
        "id": "4YUJKGfBJADs",
        "outputId": "e1f4e397-c294-46ef-9e7d-682da039b64a"
      },
      "id": "4YUJKGfBJADs",
      "execution_count": 62,
      "outputs": [
        {
          "output_type": "execute_result",
          "data": {
            "text/plain": [
              "                                      Predicted Healthy Loans (low-risk)  \\\n",
              "Actual Healthy Loans (low-risk)                                  1122083   \n",
              "Actual Non-Healthy Loans (high-risk)                                  43   \n",
              "\n",
              "                                      Predicted Non-Healthy Loans (high-risk)  \n",
              "Actual Healthy Loans (low-risk)                                        463789  \n",
              "Actual Non-Healthy Loans (high-risk)                                     1884  "
            ],
            "text/html": [
              "\n",
              "  <div id=\"df-12e92a2a-072a-424f-a45a-6e5a2477d16a\">\n",
              "    <div class=\"colab-df-container\">\n",
              "      <div>\n",
              "<style scoped>\n",
              "    .dataframe tbody tr th:only-of-type {\n",
              "        vertical-align: middle;\n",
              "    }\n",
              "\n",
              "    .dataframe tbody tr th {\n",
              "        vertical-align: top;\n",
              "    }\n",
              "\n",
              "    .dataframe thead th {\n",
              "        text-align: right;\n",
              "    }\n",
              "</style>\n",
              "<table border=\"1\" class=\"dataframe\">\n",
              "  <thead>\n",
              "    <tr style=\"text-align: right;\">\n",
              "      <th></th>\n",
              "      <th>Predicted Healthy Loans (low-risk)</th>\n",
              "      <th>Predicted Non-Healthy Loans (high-risk)</th>\n",
              "    </tr>\n",
              "  </thead>\n",
              "  <tbody>\n",
              "    <tr>\n",
              "      <th>Actual Healthy Loans (low-risk)</th>\n",
              "      <td>1122083</td>\n",
              "      <td>463789</td>\n",
              "    </tr>\n",
              "    <tr>\n",
              "      <th>Actual Non-Healthy Loans (high-risk)</th>\n",
              "      <td>43</td>\n",
              "      <td>1884</td>\n",
              "    </tr>\n",
              "  </tbody>\n",
              "</table>\n",
              "</div>\n",
              "      <button class=\"colab-df-convert\" onclick=\"convertToInteractive('df-12e92a2a-072a-424f-a45a-6e5a2477d16a')\"\n",
              "              title=\"Convert this dataframe to an interactive table.\"\n",
              "              style=\"display:none;\">\n",
              "        \n",
              "  <svg xmlns=\"http://www.w3.org/2000/svg\" height=\"24px\"viewBox=\"0 0 24 24\"\n",
              "       width=\"24px\">\n",
              "    <path d=\"M0 0h24v24H0V0z\" fill=\"none\"/>\n",
              "    <path d=\"M18.56 5.44l.94 2.06.94-2.06 2.06-.94-2.06-.94-.94-2.06-.94 2.06-2.06.94zm-11 1L8.5 8.5l.94-2.06 2.06-.94-2.06-.94L8.5 2.5l-.94 2.06-2.06.94zm10 10l.94 2.06.94-2.06 2.06-.94-2.06-.94-.94-2.06-.94 2.06-2.06.94z\"/><path d=\"M17.41 7.96l-1.37-1.37c-.4-.4-.92-.59-1.43-.59-.52 0-1.04.2-1.43.59L10.3 9.45l-7.72 7.72c-.78.78-.78 2.05 0 2.83L4 21.41c.39.39.9.59 1.41.59.51 0 1.02-.2 1.41-.59l7.78-7.78 2.81-2.81c.8-.78.8-2.07 0-2.86zM5.41 20L4 18.59l7.72-7.72 1.47 1.35L5.41 20z\"/>\n",
              "  </svg>\n",
              "      </button>\n",
              "      \n",
              "  <style>\n",
              "    .colab-df-container {\n",
              "      display:flex;\n",
              "      flex-wrap:wrap;\n",
              "      gap: 12px;\n",
              "    }\n",
              "\n",
              "    .colab-df-convert {\n",
              "      background-color: #E8F0FE;\n",
              "      border: none;\n",
              "      border-radius: 50%;\n",
              "      cursor: pointer;\n",
              "      display: none;\n",
              "      fill: #1967D2;\n",
              "      height: 32px;\n",
              "      padding: 0 0 0 0;\n",
              "      width: 32px;\n",
              "    }\n",
              "\n",
              "    .colab-df-convert:hover {\n",
              "      background-color: #E2EBFA;\n",
              "      box-shadow: 0px 1px 2px rgba(60, 64, 67, 0.3), 0px 1px 3px 1px rgba(60, 64, 67, 0.15);\n",
              "      fill: #174EA6;\n",
              "    }\n",
              "\n",
              "    [theme=dark] .colab-df-convert {\n",
              "      background-color: #3B4455;\n",
              "      fill: #D2E3FC;\n",
              "    }\n",
              "\n",
              "    [theme=dark] .colab-df-convert:hover {\n",
              "      background-color: #434B5C;\n",
              "      box-shadow: 0px 1px 3px 1px rgba(0, 0, 0, 0.15);\n",
              "      filter: drop-shadow(0px 1px 2px rgba(0, 0, 0, 0.3));\n",
              "      fill: #FFFFFF;\n",
              "    }\n",
              "  </style>\n",
              "\n",
              "      <script>\n",
              "        const buttonEl =\n",
              "          document.querySelector('#df-12e92a2a-072a-424f-a45a-6e5a2477d16a button.colab-df-convert');\n",
              "        buttonEl.style.display =\n",
              "          google.colab.kernel.accessAllowed ? 'block' : 'none';\n",
              "\n",
              "        async function convertToInteractive(key) {\n",
              "          const element = document.querySelector('#df-12e92a2a-072a-424f-a45a-6e5a2477d16a');\n",
              "          const dataTable =\n",
              "            await google.colab.kernel.invokeFunction('convertToInteractive',\n",
              "                                                     [key], {});\n",
              "          if (!dataTable) return;\n",
              "\n",
              "          const docLinkHtml = 'Like what you see? Visit the ' +\n",
              "            '<a target=\"_blank\" href=https://colab.research.google.com/notebooks/data_table.ipynb>data table notebook</a>'\n",
              "            + ' to learn more about interactive tables.';\n",
              "          element.innerHTML = '';\n",
              "          dataTable['output_type'] = 'display_data';\n",
              "          await google.colab.output.renderOutput(dataTable, element);\n",
              "          const docLink = document.createElement('div');\n",
              "          docLink.innerHTML = docLinkHtml;\n",
              "          element.appendChild(docLink);\n",
              "        }\n",
              "      </script>\n",
              "    </div>\n",
              "  </div>\n",
              "  "
            ]
          },
          "metadata": {},
          "execution_count": 62
        }
      ]
    },
    {
      "cell_type": "code",
      "source": [
        "# Print the classification report for the model\n",
        "print(classification_report(y_test, LR_oversampled_pred))"
      ],
      "metadata": {
        "colab": {
          "base_uri": "https://localhost:8080/"
        },
        "id": "B-g7FCWrJVOW",
        "outputId": "722ef6bd-940b-4753-c7cb-c0e2b032cf07"
      },
      "id": "B-g7FCWrJVOW",
      "execution_count": 63,
      "outputs": [
        {
          "output_type": "stream",
          "name": "stdout",
          "text": [
            "              precision    recall  f1-score   support\n",
            "\n",
            "           0       1.00      0.71      0.83   1585872\n",
            "           1       0.00      0.98      0.01      1927\n",
            "\n",
            "    accuracy                           0.71   1587799\n",
            "   macro avg       0.50      0.84      0.42   1587799\n",
            "weighted avg       1.00      0.71      0.83   1587799\n",
            "\n"
          ]
        }
      ]
    },
    {
      "cell_type": "code",
      "source": [
        "#turned our dataframe into a csv\n",
        "gamma_df.to_csv('filefortableau.csv', index=False)"
      ],
      "metadata": {
        "id": "B5yU1BIyV6Oo"
      },
      "id": "B5yU1BIyV6Oo",
      "execution_count": 64,
      "outputs": []
    },
    {
      "cell_type": "code",
      "source": [
        "#downloaded the new csv file \n",
        "from google.colab import files\n",
        "files.download('filefortableau.csv')\n"
      ],
      "metadata": {
        "id": "RaSnMjyBZq5y"
      },
      "id": "RaSnMjyBZq5y",
      "execution_count": null,
      "outputs": []
    },
    {
      "cell_type": "markdown",
      "source": [
        "---"
      ],
      "metadata": {
        "id": "vbbvIWKAfAva"
      },
      "id": "vbbvIWKAfAva"
    },
    {
      "cell_type": "markdown",
      "source": [
        "*Graphs*"
      ],
      "metadata": {
        "id": "M1k-D3T7fFlk"
      },
      "id": "M1k-D3T7fFlk"
    },
    {
      "cell_type": "code",
      "source": [
        "#pie_chart_df=pd.Dataframe(gamma_df)\n",
        "#gamma_df.plot(kind='pie', y='type', labels=gamma_df['type'], autopct='%1.1f%%')\n",
        "#plt.axis('equal')\n",
        "#plt.show()\n",
        "\n",
        "label_counts = beta_df['type'].value_counts()\n",
        "label_counts.plot(kind='pie', autopct='%1.1f%%')\n",
        "plt.title(\"Distribution of Categories\")\n",
        "#Display the chart\n",
        "plt.axis('equal')\n",
        "plt.show()"
      ],
      "metadata": {
        "colab": {
          "base_uri": "https://localhost:8080/",
          "height": 428
        },
        "id": "MPg12RpcfJ5F",
        "outputId": "4b613acd-a24a-4026-f7eb-c6feac52327d"
      },
      "id": "MPg12RpcfJ5F",
      "execution_count": 69,
      "outputs": [
        {
          "output_type": "display_data",
          "data": {
            "text/plain": [
              "<Figure size 640x480 with 1 Axes>"
            ],
            "image/png": "[encoded data removed]"
          },
          "metadata": {}
        }
      ]
    },
    {
      "cell_type": "markdown",
      "source": [
        "CASH-IN, CASH-OUT, DEBIT, PAYMENT, and TRANSFER—relate to financial activities involving the movement of funds. Here's an explanation of each transaction:\n",
        "\n",
        "*CASH-IN*: This transaction refers to the action of depositing cash into an account. It involves adding funds to a specific account, increasing the account balance. For example, if you deposit cash into your bank account, it would be recorded as a CASH-IN transaction.\n",
        "\n",
        "*CASH-OUT*: This transaction represents the withdrawal or disbursement of cash from an account. It involves reducing the account balance by taking out funds in the form of physical cash. For instance, if you withdraw money from an ATM or make a cash withdrawal at a bank, it would be recorded as a CASH-OUT transaction.\n",
        "\n",
        "*DEBIT*: A DEBIT transaction typically refers to the reduction of funds from an account due to a purchase or expense. It represents an outflow of funds from the account. For example, when you use a debit card to make a purchase or pay for a service, the transaction is recorded as a DEBIT.\n",
        "\n",
        "*PAYMENT*: A PAYMENT transaction signifies the transfer of funds from one party to another for the settlement of a debt or obligation. It involves transferring funds to fulfill a payment obligation. It can include various forms of payments such as electronic transfers, checks, online payments, or other payment methods.\n",
        "\n",
        "*TRANSFER*: A TRANSFER transaction refers to the movement of funds between different accounts or entities. It involves transferring funds from one account to another, typically within the same financial institution or between different financial institutions. Transfers can be initiated for various reasons, such as transferring funds between personal accounts, transferring money to another individual or business, or consolidating funds from multiple accounts.\n",
        "\n",
        "It's important to note that the specific definitions and categorizations of these transactions may vary depending on the context and financial institution. The terms used by different institutions or systems may have slightly different meanings or include additional transaction types."
      ],
      "metadata": {
        "id": "uuOtg4OwUF8J"
      },
      "id": "uuOtg4OwUF8J"
    }
  ],
  "metadata": {
    "colab": {
      "provenance": [],
      "include_colab_link": true
    },
    "language_info": {
      "name": "python"
    },
    "kernelspec": {
      "name": "python3",
      "display_name": "Python 3"
    }
  },
  "nbformat": 4,
  "nbformat_minor": 5
}